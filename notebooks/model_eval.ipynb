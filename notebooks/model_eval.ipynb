{
 "cells": [
  {
   "cell_type": "markdown",
   "id": "c710e3dd-9a63-4a7b-a2d4-ad7f27548ff3",
   "metadata": {},
   "source": [
    "# Train-Test Split"
   ]
  },
  {
   "cell_type": "code",
   "execution_count": 1,
   "id": "50c057fd-88bc-4ac9-882e-6bdcba94ba51",
   "metadata": {},
   "outputs": [],
   "source": [
    "import os\n",
    "os.chdir(os.environ['PWD'])"
   ]
  },
  {
   "cell_type": "markdown",
   "id": "6cda9b67-61fe-4425-94f6-11eb16a1bb59",
   "metadata": {},
   "source": [
    "Import Libraries"
   ]
  },
  {
   "cell_type": "code",
   "execution_count": 2,
   "id": "4adfd388-465b-453d-ae17-ec3205623c41",
   "metadata": {},
   "outputs": [],
   "source": [
    "import pandas as pd\n",
    "import numpy as np\n",
    "import matplotlib.pyplot as plt\n",
    "import seaborn as sns\n",
    "sns.set_palette('colorblind')\n",
    "from app.conf import settings as sts\n",
    "from app.conf import utils as uts\n",
    "from app.conf import model_utils as muts\n",
    "from app.conf.mymodel import MyModel"
   ]
  },
  {
   "cell_type": "code",
   "execution_count": 4,
   "id": "81a994d7-d276-41cc-be01-f396ac1cf346",
   "metadata": {},
   "outputs": [],
   "source": [
    "import sys\n",
    "sys.path.append('/Users/felipegonzalez/repos/colombian_food_prices/app')"
   ]
  },
  {
   "cell_type": "markdown",
   "id": "3882cc5a-cc07-49dc-b5fa-f88d248d92e2",
   "metadata": {
    "tags": []
   },
   "source": [
    "#### Import Historical Data"
   ]
  },
  {
   "cell_type": "code",
   "execution_count": 5,
   "id": "e2c69263-b9b4-4510-bd4a-7ad6db7b84df",
   "metadata": {},
   "outputs": [],
   "source": [
    "dataset_filtered = uts.load_artifact('prices_dataframe', sts.LOCAL_ARTIFACTS_PATH)"
   ]
  },
  {
   "cell_type": "code",
   "execution_count": null,
   "id": "f3572c9f-8cfa-4261-98bf-2f1504cbf766",
   "metadata": {},
   "outputs": [],
   "source": []
  },
  {
   "cell_type": "code",
   "execution_count": 6,
   "id": "6d4f06c8-e1cd-4090-a962-94be36fbb65c",
   "metadata": {},
   "outputs": [],
   "source": [
    "train_dataset = dataset_filtered.loc[dataset_filtered['date'] < dataset_filtered['date'].max()].copy()\n",
    "test_dataset = dataset_filtered.loc[dataset_filtered['date'] >= dataset_filtered['date'].max()].copy()"
   ]
  },
  {
   "cell_type": "code",
   "execution_count": null,
   "id": "3b939898-de3e-4c30-976c-07fd510ed968",
   "metadata": {},
   "outputs": [],
   "source": []
  },
  {
   "cell_type": "code",
   "execution_count": 7,
   "id": "cb5ea872-7f21-4d8f-ae64-0a8fe8d3aeb2",
   "metadata": {},
   "outputs": [],
   "source": [
    "uts.dump_artifact(train_dataset, 'train_dataset', path=sts.LOCAL_ARTIFACTS_PATH)\n",
    "uts.dump_artifact(test_dataset, 'test_dataset', path=sts.LOCAL_ARTIFACTS_PATH)"
   ]
  },
  {
   "cell_type": "code",
   "execution_count": null,
   "id": "ec799ba6-b47d-435b-91d8-b18d429db39f",
   "metadata": {},
   "outputs": [],
   "source": []
  },
  {
   "cell_type": "code",
   "execution_count": 8,
   "id": "9fe4c9f8-719d-4e72-891e-21d2d2aa7d63",
   "metadata": {},
   "outputs": [],
   "source": [
    "%%bash\n",
    "python app/task_train_model.py --prices_dataframe-name train_dataset --model-name train_model"
   ]
  },
  {
   "cell_type": "code",
   "execution_count": null,
   "id": "e9fa187b-9a81-4979-8367-6aa3aa1b5535",
   "metadata": {},
   "outputs": [],
   "source": []
  },
  {
   "cell_type": "code",
   "execution_count": 9,
   "id": "3aaa0c96-e104-4b20-8d95-79a98e33a5df",
   "metadata": {},
   "outputs": [],
   "source": [
    "train_model = uts.load_artifact('train_model', sts.LOCAL_ARTIFACTS_PATH)"
   ]
  },
  {
   "cell_type": "code",
   "execution_count": null,
   "id": "8c2e190a-8184-4c7c-9ff6-50c1816f06f6",
   "metadata": {},
   "outputs": [],
   "source": []
  },
  {
   "cell_type": "code",
   "execution_count": 19,
   "id": "486533e6-3ca0-4afe-a015-447ed81b81ac",
   "metadata": {},
   "outputs": [
    {
     "data": {
      "text/html": [
       "<div>\n",
       "<style scoped>\n",
       "    .dataframe tbody tr th:only-of-type {\n",
       "        vertical-align: middle;\n",
       "    }\n",
       "\n",
       "    .dataframe tbody tr th {\n",
       "        vertical-align: top;\n",
       "    }\n",
       "\n",
       "    .dataframe thead th {\n",
       "        text-align: right;\n",
       "    }\n",
       "</style>\n",
       "<table border=\"1\" class=\"dataframe\">\n",
       "  <thead>\n",
       "    <tr style=\"text-align: right;\">\n",
       "      <th></th>\n",
       "      <th>date</th>\n",
       "      <th>group</th>\n",
       "      <th>product</th>\n",
       "      <th>market</th>\n",
       "      <th>mean_price</th>\n",
       "    </tr>\n",
       "  </thead>\n",
       "  <tbody>\n",
       "    <tr>\n",
       "      <th>119</th>\n",
       "      <td>2022-12-01</td>\n",
       "      <td>carnes</td>\n",
       "      <td>alas de pollo con costillar</td>\n",
       "      <td>armenia mercar</td>\n",
       "      <td>12250</td>\n",
       "    </tr>\n",
       "    <tr>\n",
       "      <th>239</th>\n",
       "      <td>2022-12-01</td>\n",
       "      <td>carnes</td>\n",
       "      <td>alas de pollo con costillar</td>\n",
       "      <td>barranquilla barranquillita</td>\n",
       "      <td>8060</td>\n",
       "    </tr>\n",
       "    <tr>\n",
       "      <th>359</th>\n",
       "      <td>2022-12-01</td>\n",
       "      <td>carnes</td>\n",
       "      <td>alas de pollo con costillar</td>\n",
       "      <td>barranquilla granabastos</td>\n",
       "      <td>8100</td>\n",
       "    </tr>\n",
       "    <tr>\n",
       "      <th>479</th>\n",
       "      <td>2022-12-01</td>\n",
       "      <td>carnes</td>\n",
       "      <td>alas de pollo con costillar</td>\n",
       "      <td>bogota dc frigorifico ble ltda</td>\n",
       "      <td>9308</td>\n",
       "    </tr>\n",
       "    <tr>\n",
       "      <th>599</th>\n",
       "      <td>2022-12-01</td>\n",
       "      <td>carnes</td>\n",
       "      <td>alas de pollo con costillar</td>\n",
       "      <td>bogota dc frigorifico guadalupe</td>\n",
       "      <td>7933</td>\n",
       "    </tr>\n",
       "    <tr>\n",
       "      <th>...</th>\n",
       "      <td>...</td>\n",
       "      <td>...</td>\n",
       "      <td>...</td>\n",
       "      <td>...</td>\n",
       "      <td>...</td>\n",
       "    </tr>\n",
       "    <tr>\n",
       "      <th>408839</th>\n",
       "      <td>2022-12-01</td>\n",
       "      <td>verduras y hortalizas</td>\n",
       "      <td>zanahoria larga vida</td>\n",
       "      <td>medellin central mayorista de antioquia</td>\n",
       "      <td>1506</td>\n",
       "    </tr>\n",
       "    <tr>\n",
       "      <th>408959</th>\n",
       "      <td>2022-12-01</td>\n",
       "      <td>verduras y hortalizas</td>\n",
       "      <td>zanahoria larga vida</td>\n",
       "      <td>medellin plaza minorista jose maria villa</td>\n",
       "      <td>1803</td>\n",
       "    </tr>\n",
       "    <tr>\n",
       "      <th>409079</th>\n",
       "      <td>2022-12-01</td>\n",
       "      <td>verduras y hortalizas</td>\n",
       "      <td>zanahoria larga vida</td>\n",
       "      <td>monteria mercado del sur</td>\n",
       "      <td>1921</td>\n",
       "    </tr>\n",
       "    <tr>\n",
       "      <th>409199</th>\n",
       "      <td>2022-12-01</td>\n",
       "      <td>verduras y hortalizas</td>\n",
       "      <td>zanahoria larga vida</td>\n",
       "      <td>rionegro antioquia</td>\n",
       "      <td>1603</td>\n",
       "    </tr>\n",
       "    <tr>\n",
       "      <th>409319</th>\n",
       "      <td>2022-12-01</td>\n",
       "      <td>verduras y hortalizas</td>\n",
       "      <td>zanahoria larga vida</td>\n",
       "      <td>sonson antioquia</td>\n",
       "      <td>1306</td>\n",
       "    </tr>\n",
       "  </tbody>\n",
       "</table>\n",
       "<p>3411 rows × 5 columns</p>\n",
       "</div>"
      ],
      "text/plain": [
       "             date                  group                      product  \\\n",
       "119    2022-12-01                 carnes  alas de pollo con costillar   \n",
       "239    2022-12-01                 carnes  alas de pollo con costillar   \n",
       "359    2022-12-01                 carnes  alas de pollo con costillar   \n",
       "479    2022-12-01                 carnes  alas de pollo con costillar   \n",
       "599    2022-12-01                 carnes  alas de pollo con costillar   \n",
       "...           ...                    ...                          ...   \n",
       "408839 2022-12-01  verduras y hortalizas         zanahoria larga vida   \n",
       "408959 2022-12-01  verduras y hortalizas         zanahoria larga vida   \n",
       "409079 2022-12-01  verduras y hortalizas         zanahoria larga vida   \n",
       "409199 2022-12-01  verduras y hortalizas         zanahoria larga vida   \n",
       "409319 2022-12-01  verduras y hortalizas         zanahoria larga vida   \n",
       "\n",
       "                                           market mean_price  \n",
       "119                                armenia mercar      12250  \n",
       "239                   barranquilla barranquillita       8060  \n",
       "359                      barranquilla granabastos       8100  \n",
       "479                bogota dc frigorifico ble ltda       9308  \n",
       "599               bogota dc frigorifico guadalupe       7933  \n",
       "...                                           ...        ...  \n",
       "408839    medellin central mayorista de antioquia       1506  \n",
       "408959  medellin plaza minorista jose maria villa       1803  \n",
       "409079                   monteria mercado del sur       1921  \n",
       "409199                         rionegro antioquia       1603  \n",
       "409319                           sonson antioquia       1306  \n",
       "\n",
       "[3411 rows x 5 columns]"
      ]
     },
     "execution_count": 19,
     "metadata": {},
     "output_type": "execute_result"
    }
   ],
   "source": [
    "test_dataset"
   ]
  },
  {
   "cell_type": "code",
   "execution_count": 20,
   "id": "6befba2d-1fc2-4e21-b1c2-beab054b15e8",
   "metadata": {},
   "outputs": [
    {
     "data": {
      "text/plain": [
       "{'model_name': 'Next-Month Colombian Fruit and Veg Prices Predictor',\n",
       " 'model_version': '1',\n",
       " 'forecast_date': '2022-12'}"
      ]
     },
     "execution_count": 20,
     "metadata": {},
     "output_type": "execute_result"
    }
   ],
   "source": [
    "train_model.get_model_info()"
   ]
  },
  {
   "cell_type": "code",
   "execution_count": 21,
   "id": "cfca6369-75a2-4ea4-9e5a-e446f7a61fbf",
   "metadata": {},
   "outputs": [],
   "source": [
    "product_market_pairs =list(test_dataset[['product', 'market', 'mean_price']].\n",
    "                           drop_duplicates().itertuples(index=False, name=None))"
   ]
  },
  {
   "cell_type": "code",
   "execution_count": 26,
   "id": "028b7453-49c2-4cbc-ad55-3bf7fc41a119",
   "metadata": {},
   "outputs": [
    {
     "data": {
      "text/plain": [
       "3411"
      ]
     },
     "execution_count": 26,
     "metadata": {},
     "output_type": "execute_result"
    }
   ],
   "source": [
    "len(product_market_pairs)"
   ]
  },
  {
   "cell_type": "code",
   "execution_count": 33,
   "id": "15fb478c-887e-4fe8-a88b-ba5785859add",
   "metadata": {},
   "outputs": [],
   "source": [
    "mape_list = []"
   ]
  },
  {
   "cell_type": "code",
   "execution_count": 34,
   "id": "701101d8-43ec-44de-b8ca-6306f74cc0b6",
   "metadata": {},
   "outputs": [],
   "source": [
    "for key_tuple in product_market_pairs:\n",
    "    product, market, price = key_tuple\n",
    "    prediction = train_model.predict_product_market(product, market)\n",
    "    if len(prediction) > 0:\n",
    "        mape = abs(price - prediction['point'])/price\n",
    "        mape_list.append(mape)"
   ]
  },
  {
   "cell_type": "code",
   "execution_count": 38,
   "id": "1efa5997-ed2d-4928-a992-0f9ebc6502e9",
   "metadata": {},
   "outputs": [
    {
     "data": {
      "image/png": "[encoded data removed]",
      "text/plain": [
       "<Figure size 500x500 with 1 Axes>"
      ]
     },
     "metadata": {},
     "output_type": "display_data"
    }
   ],
   "source": [
    "sns.displot(mape_list)\n",
    "plt.title('Per-Serie MAPE Distribution')\n",
    "plt.show()"
   ]
  },
  {
   "cell_type": "code",
   "execution_count": 40,
   "id": "1ea49bef-a7a7-43d1-99c4-3130851ea64b",
   "metadata": {},
   "outputs": [
    {
     "data": {
      "text/plain": [
       "count    3410.000000\n",
       "mean        0.127090\n",
       "std         0.154725\n",
       "min         0.000033\n",
       "25%         0.025692\n",
       "50%         0.071164\n",
       "75%         0.167565\n",
       "max         1.752197\n",
       "dtype: float64"
      ]
     },
     "execution_count": 40,
     "metadata": {},
     "output_type": "execute_result"
    }
   ],
   "source": [
    "pd.Series(mape_list).describe()"
   ]
  },
  {
   "cell_type": "code",
   "execution_count": null,
   "id": "e70746e6-b170-41a4-b957-df9e4a544232",
   "metadata": {},
   "outputs": [],
   "source": []
  }
 ],
 "metadata": {
  "kernelspec": {
   "display_name": "Python 3 (ipykernel)",
   "language": "python",
   "name": "python3"
  },
  "language_info": {
   "codemirror_mode": {
    "name": "ipython",
    "version": 3
   },
   "file_extension": ".py",
   "mimetype": "text/x-python",
   "name": "python",
   "nbconvert_exporter": "python",
   "pygments_lexer": "ipython3",
   "version": "3.10.8"
  }
 },
 "nbformat": 4,
 "nbformat_minor": 5
}
