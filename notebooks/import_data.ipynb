{
 "cells": [
  {
   "cell_type": "markdown",
   "id": "34d6beb5-28ed-4da6-a656-192c56f45a1c",
   "metadata": {},
   "source": [
    "# Import Historical Price Data"
   ]
  },
  {
   "cell_type": "code",
   "execution_count": 1,
   "id": "0118994d-e6b8-42b4-8eb3-4840a9980c21",
   "metadata": {},
   "outputs": [],
   "source": [
    "import os\n",
    "os.chdir(os.environ['PWD'])"
   ]
  },
  {
   "cell_type": "code",
   "execution_count": 2,
   "id": "35f9c276-629e-42fc-9870-f8a809d865e2",
   "metadata": {},
   "outputs": [],
   "source": [
    "import pandas as pd\n",
    "import requests\n",
    "from tqdm import tqdm\n",
    "from openpyxl import load_workbook\n",
    "from app.conf import settings as sts"
   ]
  },
  {
   "cell_type": "code",
   "execution_count": 3,
   "id": "a189ea80-a98e-4e99-9c1b-fadb4e2be91d",
   "metadata": {},
   "outputs": [],
   "source": [
    "raw_data_urls = [\n",
    "    \"series-historicas-precios-mayoristas-06-12-22.xlsx\",\n",
    "    \"series-historicas-precios-mayoristas-2021.xlsx\",\n",
    "    \"series-historicas-precios-mayoristas-2020.xlsx\",\n",
    "    \"series-historicas-precios-mayoristas-2019.xlsx\",\n",
    "    \"series-historicas-precios-mayoristas-2018.xlsx\",\n",
    "    \"series-historicas-precios-mayoristas.xlsx\"\n",
    "]"
   ]
  },
  {
   "cell_type": "code",
   "execution_count": 4,
   "id": "bbcf6648-0c86-4025-897e-cccf1d3ebc33",
   "metadata": {},
   "outputs": [],
   "source": [
    "def load_dataset(filename, local_path = sts.LOCAL_DATA_PATH, url_path = sts.REMOTE_URL_PATH):\n",
    "    \n",
    "    file_path = local_path + filename\n",
    "    \n",
    "    if filename not in os.listdir(local_path):\n",
    "    \n",
    "        url = url_path + filename\n",
    "        print(url)\n",
    "        resp = requests.get(url)\n",
    "        assert resp.status_code == 200, resp.status_code\n",
    "\n",
    "        file = open(file_path, 'wb')\n",
    "        file.write(resp.content)\n",
    "        file.close()\n",
    "    \n",
    "    workbook = load_workbook(file_path, data_only = True)\n",
    "    sheetnames = workbook.sheetnames\n",
    "    \n",
    "    _dataframe_list = []\n",
    "    \n",
    "    for sheet in sheetnames[1:]:\n",
    "        dataframe = pd.DataFrame(workbook[sheet].values)\n",
    "        _valid_index = pd.to_datetime(dataframe[0], errors='coerce').dropna(axis = 0).index\n",
    "        dataframe = dataframe.filter(_valid_index, axis = 0).dropna(axis = 1)\n",
    "        _dataframe_list.append(dataframe)\n",
    "    \n",
    "    concat_dataframe = pd.concat(_dataframe_list, ignore_index=True)\n",
    "    \n",
    "    return concat_dataframe"
   ]
  },
  {
   "cell_type": "code",
   "execution_count": 5,
   "id": "db1d8b41-4b1c-45c6-90c6-004a8de40bfd",
   "metadata": {},
   "outputs": [
    {
     "name": "stderr",
     "output_type": "stream",
     "text": [
      "100%|████████████████████████████████████████████████████████████████████████████████████████████████████████████████████████████████████████████████| 6/6 [00:21<00:00,  3.56s/it]\n"
     ]
    }
   ],
   "source": [
    "_final_dataframe_list = []\n",
    "for url in tqdm(raw_data_urls):\n",
    "    dataframe = load_dataset(url)\n",
    "    _final_dataframe_list.append(dataframe)\n",
    "final_dataframe = pd.concat(_final_dataframe_list, ignore_index=True)\n",
    "final_dataframe.columns = ['date', 'group', 'product', 'market', 'mean_price']"
   ]
  },
  {
   "cell_type": "code",
   "execution_count": 6,
   "id": "d0fd28a1-f72f-4f70-85ba-9bdaa57a831d",
   "metadata": {},
   "outputs": [],
   "source": [
    "final_dataframe['date'] = pd.to_datetime(final_dataframe['date'])"
   ]
  },
  {
   "cell_type": "code",
   "execution_count": 7,
   "id": "7ef28a69-a14e-4538-92b6-cdf7463ab0e2",
   "metadata": {},
   "outputs": [],
   "source": [
    "final_dataframe.sort_values('date', inplace=True, ignore_index=True)"
   ]
  },
  {
   "cell_type": "code",
   "execution_count": 8,
   "id": "4f578baf-3e6f-4fdb-96d8-54e356a7cfc2",
   "metadata": {},
   "outputs": [],
   "source": [
    "final_dataframe.to_csv(sts.LOCAL_DATA_PATH+sts.FINAL_PRICE_DATASET, index=False)"
   ]
  }
 ],
 "metadata": {
  "kernelspec": {
   "display_name": "Python 3 (ipykernel)",
   "language": "python",
   "name": "python3"
  },
  "language_info": {
   "codemirror_mode": {
    "name": "ipython",
    "version": 3
   },
   "file_extension": ".py",
   "mimetype": "text/x-python",
   "name": "python",
   "nbconvert_exporter": "python",
   "pygments_lexer": "ipython3",
   "version": "3.10.8"
  }
 },
 "nbformat": 4,
 "nbformat_minor": 5
}
