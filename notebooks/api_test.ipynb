{
 "cells": [
  {
   "cell_type": "code",
   "execution_count": 1,
   "id": "a8c05da2-b3ea-4a35-9930-394c4220861c",
   "metadata": {},
   "outputs": [],
   "source": [
    "import os\n",
    "os.chdir(os.environ['PWD'])"
   ]
  },
  {
   "cell_type": "code",
   "execution_count": 2,
   "id": "5bec7ae6-cb50-4be4-b35c-2da8066e8868",
   "metadata": {},
   "outputs": [],
   "source": [
    "import sys\n",
    "sys.path.append('/Users/felipegonzalez/repos/colombian_food_prices/app')"
   ]
  },
  {
   "cell_type": "code",
   "execution_count": 3,
   "id": "777cb5f0-b813-49c5-8b56-2725f1848c16",
   "metadata": {},
   "outputs": [],
   "source": [
    "from fastapi.testclient import TestClient\n",
    "from app.bridge import app"
   ]
  },
  {
   "cell_type": "code",
   "execution_count": 4,
   "id": "37a2944a-c338-42ae-ba19-08cb0bff252e",
   "metadata": {},
   "outputs": [],
   "source": [
    "home = TestClient(app)"
   ]
  },
  {
   "cell_type": "code",
   "execution_count": 5,
   "id": "afa375f8-644c-4f8f-9dd0-502c20b5429b",
   "metadata": {},
   "outputs": [],
   "source": [
    "resp = home.get('/info')"
   ]
  },
  {
   "cell_type": "code",
   "execution_count": 6,
   "id": "76440f31-0a26-45db-b956-35bcf41c8832",
   "metadata": {},
   "outputs": [
    {
     "data": {
      "text/plain": [
       "{'model_name': 'Next-Month Colombian Fruit and Veg Prices Predictor',\n",
       " 'model_version': '1',\n",
       " 'forecast_date': '2023-01',\n",
       " 'last_month_mape': {'mape_mean': 0.127,\n",
       "  'mape_std': 0.155,\n",
       "  'mape_min': 0.0,\n",
       "  'mape_25%': 0.026,\n",
       "  'mape_50%': 0.071,\n",
       "  'mape_75%': 0.168,\n",
       "  'mape_max': 1.752}}"
      ]
     },
     "metadata": {},
     "output_type": "display_data"
    }
   ],
   "source": [
    "display(resp.json())"
   ]
  },
  {
   "cell_type": "code",
   "execution_count": null,
   "id": "a3311238-30de-4731-9126-02224954abd1",
   "metadata": {},
   "outputs": [],
   "source": []
  },
  {
   "cell_type": "code",
   "execution_count": 12,
   "id": "1291fc79-be84-47dc-9009-134d78d2c336",
   "metadata": {},
   "outputs": [],
   "source": [
    "resp = home.post('/predict_product', json = {'product':'maracuya'})"
   ]
  },
  {
   "cell_type": "code",
   "execution_count": 13,
   "id": "a09f8a7f-fb06-4fa2-8e83-41f7a59e906d",
   "metadata": {},
   "outputs": [],
   "source": [
    "assert resp.status_code == 200"
   ]
  },
  {
   "cell_type": "code",
   "execution_count": 14,
   "id": "113165f2-f546-4253-b496-b86958296dc7",
   "metadata": {},
   "outputs": [
    {
     "data": {
      "text/plain": [
       "{'arauca arauca': {'point': 3455.602422888044,\n",
       "  'lower': 2799.33331051934,\n",
       "  'upper': 4111.871535256749},\n",
       " 'armenia mercar': {'point': 3134.714276483009,\n",
       "  'lower': 2282.8951302060887,\n",
       "  'upper': 3986.5334227599296},\n",
       " 'bogota dc corabastos': {'point': 3494.9838107299806,\n",
       "  'lower': 2144.620053213036,\n",
       "  'upper': 4845.347568246925},\n",
       " 'bucaramanga centroabastos': {'point': 3378.603046898516,\n",
       "  'lower': 2441.06331237811,\n",
       "  'upper': 4316.142781418922},\n",
       " 'buenaventura valle del cauca': {'point': 3735.7073940728587,\n",
       "  'lower': 2892.9404128400893,\n",
       "  'upper': 4578.474375305628},\n",
       " 'cali cavasa': {'point': 2971.7011473706334,\n",
       "  'lower': 2118.276499083039,\n",
       "  'upper': 3825.1257956582276},\n",
       " 'cartago valle del cauca': {'point': 3472.0945330399163,\n",
       "  'lower': 2548.9475116085746,\n",
       "  'upper': 4395.241554471258},\n",
       " 'chiquinquira boyaca': {'point': 3272.9913324991862,\n",
       "  'lower': 1968.2236231767033,\n",
       "  'upper': 4577.75904182167},\n",
       " 'cucuta cenabastos': {'point': 3585.5661198846256,\n",
       "  'lower': 2785.517803250369,\n",
       "  'upper': 4385.614436518882},\n",
       " 'ibague plaza la 21': {'point': 3002.918091097463,\n",
       "  'lower': 2255.372482397219,\n",
       "  'upper': 3750.463699797707},\n",
       " 'la ceja antioquia': {'point': 3259.854881376662,\n",
       "  'lower': 2582.807082591178,\n",
       "  'upper': 3936.9026801621458},\n",
       " 'manizales centro galerias': {'point': 3127.130001452543,\n",
       "  'lower': 2254.34748777764,\n",
       "  'upper': 3999.9125151274466},\n",
       " 'medellin plaza minorista jose maria villa': {'point': 2867.171713141118,\n",
       "  'lower': 2191.6787883215593,\n",
       "  'upper': 3542.6646379606764},\n",
       " 'palmira valle del cauca': {'point': 3089.1046072320532,\n",
       "  'lower': 2223.088696890527,\n",
       "  'upper': 3955.1205175735795},\n",
       " 'pamplona norte de santander': {'point': 3635.3337492330634,\n",
       "  'lower': 2837.6754385326185,\n",
       "  'upper': 4432.992059933508},\n",
       " 'pasto el potrerillo': {'point': 3160.4129003585313,\n",
       "  'lower': 2568.702953661064,\n",
       "  'upper': 3752.1228470559986},\n",
       " 'pereira la 41': {'point': 3201.0062857655985,\n",
       "  'lower': 2391.6712054819636,\n",
       "  'upper': 4010.3413660492333},\n",
       " 'pereira mercasa': {'point': 3491.9810462482133,\n",
       "  'lower': 2593.785753646065,\n",
       "  'upper': 4390.176338850361},\n",
       " 'popayan plaza de mercado del barrio bolivar': {'point': 3715.9713895781997,\n",
       "  'lower': 2803.2030288097285,\n",
       "  'upper': 4628.739750346671},\n",
       " 'rionegro antioquia': {'point': 3311.2127110375072,\n",
       "  'lower': 2657.7657212413924,\n",
       "  'upper': 3964.659700833622},\n",
       " 'san gil santander': {'point': 3141.4496230496025,\n",
       "  'lower': 2188.9924439964398,\n",
       "  'upper': 4093.906802102765},\n",
       " 'socorro santander': {'point': 3102.2416744344664,\n",
       "  'lower': 2094.0523890524496,\n",
       "  'upper': 4110.430959816484},\n",
       " 'tulua valle del cauca': {'point': 3576.7804354100163,\n",
       "  'lower': 2578.56618718497,\n",
       "  'upper': 4574.994683635063},\n",
       " 'tunja complejo de servicios del sur': {'point': 3075.8426495683416,\n",
       "  'lower': 1995.0369293953615,\n",
       "  'upper': 4156.648369741321},\n",
       " 'tuquerres narino': {'point': 3441.8332112272456,\n",
       "  'lower': 2977.294662971984,\n",
       "  'upper': 3906.371759482507},\n",
       " 'villavicencio cav': {'point': 3331.909222419721,\n",
       "  'lower': 1968.973578001935,\n",
       "  'upper': 4694.844866837508},\n",
       " 'yopal casanare': {'point': 2743.6787890362484,\n",
       "  'lower': 1624.652534060919,\n",
       "  'upper': 3862.705044011578}}"
      ]
     },
     "metadata": {},
     "output_type": "display_data"
    }
   ],
   "source": [
    "display(resp.json())"
   ]
  },
  {
   "cell_type": "code",
   "execution_count": null,
   "id": "11e5fcc3-b0d1-4a44-acc6-725613147d4f",
   "metadata": {},
   "outputs": [],
   "source": []
  },
  {
   "cell_type": "code",
   "execution_count": 15,
   "id": "fff74c45-9746-4026-93fe-e4fd2d1543d9",
   "metadata": {},
   "outputs": [],
   "source": [
    "resp = home.post('/predict_product_market', json = {'product':'maracuya', 'market':'tuquerres narino'})"
   ]
  },
  {
   "cell_type": "code",
   "execution_count": 16,
   "id": "9b547ec2-9b6b-43e8-8183-26eac6e81c7b",
   "metadata": {},
   "outputs": [],
   "source": [
    "assert resp.status_code == 200"
   ]
  },
  {
   "cell_type": "code",
   "execution_count": 17,
   "id": "ef9e2d80-3188-491b-b3b5-f838c19e0b37",
   "metadata": {},
   "outputs": [
    {
     "data": {
      "text/plain": [
       "{'point': 3441.8332112272456,\n",
       " 'lower': 2977.294662971984,\n",
       " 'upper': 3906.371759482507}"
      ]
     },
     "metadata": {},
     "output_type": "display_data"
    }
   ],
   "source": [
    "display(resp.json())"
   ]
  },
  {
   "cell_type": "code",
   "execution_count": null,
   "id": "e4e1e2a2-7afd-4a53-b588-23263a6f91d7",
   "metadata": {},
   "outputs": [],
   "source": []
  }
 ],
 "metadata": {
  "kernelspec": {
   "display_name": "Python 3 (ipykernel)",
   "language": "python",
   "name": "python3"
  },
  "language_info": {
   "codemirror_mode": {
    "name": "ipython",
    "version": 3
   },
   "file_extension": ".py",
   "mimetype": "text/x-python",
   "name": "python",
   "nbconvert_exporter": "python",
   "pygments_lexer": "ipython3",
   "version": "3.10.8"
  }
 },
 "nbformat": 4,
 "nbformat_minor": 5
}
