{
 "cells": [
  {
   "cell_type": "code",
   "execution_count": 18,
   "id": "a8c05da2-b3ea-4a35-9930-394c4220861c",
   "metadata": {},
   "outputs": [],
   "source": [
    "import os\n",
    "os.chdir(os.environ['PWD'])"
   ]
  },
  {
   "cell_type": "code",
   "execution_count": 19,
   "id": "777cb5f0-b813-49c5-8b56-2725f1848c16",
   "metadata": {},
   "outputs": [],
   "source": [
    "from fastapi.testclient import TestClient\n",
    "from app.bridge import app"
   ]
  },
  {
   "cell_type": "code",
   "execution_count": 20,
   "id": "37a2944a-c338-42ae-ba19-08cb0bff252e",
   "metadata": {},
   "outputs": [],
   "source": [
    "home = TestClient(app)"
   ]
  },
  {
   "cell_type": "code",
   "execution_count": 21,
   "id": "afa375f8-644c-4f8f-9dd0-502c20b5429b",
   "metadata": {},
   "outputs": [],
   "source": [
    "resp = home.get('/info')"
   ]
  },
  {
   "cell_type": "code",
   "execution_count": 22,
   "id": "76440f31-0a26-45db-b956-35bcf41c8832",
   "metadata": {},
   "outputs": [
    {
     "data": {
      "text/plain": [
       "{'model_name': 'Next-Month Colombian Fruit and Veg Prices Predictor',\n",
       " 'model_version': '1',\n",
       " 'forecast_date': '2022-12'}"
      ]
     },
     "metadata": {},
     "output_type": "display_data"
    }
   ],
   "source": [
    "display(resp.json())"
   ]
  },
  {
   "cell_type": "code",
   "execution_count": null,
   "id": "a3311238-30de-4731-9126-02224954abd1",
   "metadata": {},
   "outputs": [],
   "source": []
  },
  {
   "cell_type": "code",
   "execution_count": 23,
   "id": "1291fc79-be84-47dc-9009-134d78d2c336",
   "metadata": {},
   "outputs": [],
   "source": [
    "resp = home.post('/predict_product', json = {'product':'maracuya'})"
   ]
  },
  {
   "cell_type": "code",
   "execution_count": 24,
   "id": "a09f8a7f-fb06-4fa2-8e83-41f7a59e906d",
   "metadata": {},
   "outputs": [],
   "source": [
    "assert resp.status_code == 200"
   ]
  },
  {
   "cell_type": "code",
   "execution_count": 25,
   "id": "113165f2-f546-4253-b496-b86958296dc7",
   "metadata": {},
   "outputs": [
    {
     "data": {
      "text/plain": [
       "{'arauca arauca': {'point': 3840.819580318331,\n",
       "  'lower': 3558.316239004425,\n",
       "  'upper': 4123.322921632237},\n",
       " 'armenia mercar': {'point': 2984.1795810787207,\n",
       "  'lower': 2628.677627723331,\n",
       "  'upper': 3339.6815344341103},\n",
       " 'bogota dc corabastos': {'point': 3478.192479016612,\n",
       "  'lower': 2838.237805999047,\n",
       "  'upper': 4118.147152034177},\n",
       " 'bucaramanga centroabastos': {'point': 2953.8268285818085,\n",
       "  'lower': 2547.3773874169274,\n",
       "  'upper': 3360.2762697466896},\n",
       " 'buenaventura valle del cauca': {'point': 4083.5405386689445,\n",
       "  'lower': 3709.343227530293,\n",
       "  'upper': 4457.737849807596},\n",
       " 'cali cavasa': {'point': 2923.451723413738,\n",
       "  'lower': 2524.9394716489824,\n",
       "  'upper': 3321.9639751784935},\n",
       " 'cartago valle del cauca': {'point': 3581.919868530027,\n",
       "  'lower': 3207.8938890413297,\n",
       "  'upper': 3955.9458480187245},\n",
       " 'chiquinquira boyaca': {'point': 2865.082144286039,\n",
       "  'lower': 2283.7148617156636,\n",
       "  'upper': 3446.449426856414},\n",
       " 'cucuta cenabastos': {'point': 4306.4809272331795,\n",
       "  'lower': 3951.7183618380964,\n",
       "  'upper': 4661.243492628263},\n",
       " 'ibague plaza la 21': {'point': 2608.237649062954,\n",
       "  'lower': 2277.7746574856883,\n",
       "  'upper': 2938.7006406402197},\n",
       " 'la ceja antioquia': {'point': 2604.3472338527904,\n",
       "  'lower': 2286.2155088412906,\n",
       "  'upper': 2922.4789588642902},\n",
       " 'manizales centro galerias': {'point': 2699.5545532571764,\n",
       "  'lower': 2292.7535883641794,\n",
       "  'upper': 3106.3555181501733},\n",
       " 'medellin plaza minorista jose maria villa': {'point': 2241.5709857896686,\n",
       "  'lower': 1957.2531550719746,\n",
       "  'upper': 2525.8888165073627},\n",
       " 'palmira valle del cauca': {'point': 2756.697457609837,\n",
       "  'lower': 2410.6840194032106,\n",
       "  'upper': 3102.710895816463},\n",
       " 'pamplona norte de santander': {'point': 3833.156304373692,\n",
       "  'lower': 3481.7137690967365,\n",
       "  'upper': 4184.598839650647},\n",
       " 'pasto el potrerillo': {'point': 2727.4784753104173,\n",
       "  'lower': 2438.6639492698005,\n",
       "  'upper': 3016.293001351034},\n",
       " 'pereira la 41': {'point': 3386.209265294866,\n",
       "  'lower': 3040.5450082249313,\n",
       "  'upper': 3731.8735223648005},\n",
       " 'pereira mercasa': {'point': 3181.6814341374393,\n",
       "  'lower': 2816.122951422739,\n",
       "  'upper': 3547.2399168521397},\n",
       " 'popayan plaza de mercado del barrio bolivar': {'point': 3932.603242741012,\n",
       "  'lower': 3552.1122592391584,\n",
       "  'upper': 4313.094226242865},\n",
       " 'rionegro antioquia': {'point': 3164.963127161417,\n",
       "  'lower': 2837.112670284909,\n",
       "  'upper': 3492.813584037925},\n",
       " 'san gil santander': {'point': 3534.24148696261,\n",
       "  'lower': 3109.9580481293115,\n",
       "  'upper': 3958.5249257959085},\n",
       " 'socorro santander': {'point': 2886.4125094898354,\n",
       "  'lower': 2462.2069496102376,\n",
       "  'upper': 3310.618069369433},\n",
       " 'tulua valle del cauca': {'point': 3136.609868632241,\n",
       "  'lower': 2717.600311337758,\n",
       "  'upper': 3555.6194259267245},\n",
       " 'tunja complejo de servicios del sur': {'point': 3308.7752805509485,\n",
       "  'lower': 2859.678772665311,\n",
       "  'upper': 3757.871788436586},\n",
       " 'tuquerres narino': {'point': 3496.695171507094,\n",
       "  'lower': 3285.1126429823025,\n",
       "  'upper': 3708.2777000318856},\n",
       " 'villavicencio cav': {'point': 2947.9026383917826,\n",
       "  'lower': 2367.431047425533,\n",
       "  'upper': 3528.374229358032},\n",
       " 'yopal casanare': {'point': 2533.562260000911,\n",
       "  'lower': 2055.5685205985546,\n",
       "  'upper': 3011.5559994032674}}"
      ]
     },
     "metadata": {},
     "output_type": "display_data"
    }
   ],
   "source": [
    "display(resp.json())"
   ]
  },
  {
   "cell_type": "code",
   "execution_count": null,
   "id": "11e5fcc3-b0d1-4a44-acc6-725613147d4f",
   "metadata": {},
   "outputs": [],
   "source": []
  },
  {
   "cell_type": "code",
   "execution_count": 26,
   "id": "fff74c45-9746-4026-93fe-e4fd2d1543d9",
   "metadata": {},
   "outputs": [],
   "source": [
    "resp = home.post('/predict_product_market', json = {'product':'maracuya', 'market':'tuquerres narino'})"
   ]
  },
  {
   "cell_type": "code",
   "execution_count": 27,
   "id": "9b547ec2-9b6b-43e8-8183-26eac6e81c7b",
   "metadata": {},
   "outputs": [],
   "source": [
    "assert resp.status_code == 200"
   ]
  },
  {
   "cell_type": "code",
   "execution_count": 28,
   "id": "ef9e2d80-3188-491b-b3b5-f838c19e0b37",
   "metadata": {},
   "outputs": [
    {
     "data": {
      "text/plain": [
       "{'point': 3496.695171507094,\n",
       " 'lower': 3285.1126429823025,\n",
       " 'upper': 3708.2777000318856}"
      ]
     },
     "metadata": {},
     "output_type": "display_data"
    }
   ],
   "source": [
    "display(resp.json())"
   ]
  },
  {
   "cell_type": "code",
   "execution_count": null,
   "id": "e4e1e2a2-7afd-4a53-b588-23263a6f91d7",
   "metadata": {},
   "outputs": [],
   "source": []
  }
 ],
 "metadata": {
  "kernelspec": {
   "display_name": "Python 3 (ipykernel)",
   "language": "python",
   "name": "python3"
  },
  "language_info": {
   "codemirror_mode": {
    "name": "ipython",
    "version": 3
   },
   "file_extension": ".py",
   "mimetype": "text/x-python",
   "name": "python",
   "nbconvert_exporter": "python",
   "pygments_lexer": "ipython3",
   "version": "3.10.8"
  }
 },
 "nbformat": 4,
 "nbformat_minor": 5
}
