{
 "cells": [
  {
   "cell_type": "markdown",
   "id": "a25bc38f-0854-4df3-be4e-df052adef889",
   "metadata": {},
   "source": [
    "# Multi-TS Forecast"
   ]
  },
  {
   "cell_type": "markdown",
   "id": "f1e131e2-03fa-45e8-ac5d-b25ea2bc64ab",
   "metadata": {},
   "source": [
    "In this notebook we will generate the predictions for each time series filtered in the previous step using a hybrid approach. The method consists of a 2-step process where, first, trend and seasonality is fitted to each TS before it's residuals are persisted as the output variable of a 2nd model.\n",
    "In the 2nd stage we fit a general model to prefict the (concatenated) residuals of all the time series fitted in the 1st stage. The input features for this 2nd model are the lagged residuals and its rolling statistics. Also in this 2nd model, to differentiate between TSs, we add the one-hot encoded categorical \"group\" variable.\n",
    "The final prediction is the SUM of the predictions of the TS model in the 1st stage and the prediction corresponding to the same TS in the general 2nd stage model."
   ]
  },
  {
   "cell_type": "code",
   "execution_count": 1,
   "id": "b8bbdd0a-d614-40e5-a280-1c840188250d",
   "metadata": {},
   "outputs": [],
   "source": [
    "import os\n",
    "os.chdir(os.environ['PWD'])"
   ]
  },
  {
   "cell_type": "markdown",
   "id": "d0f8d216-ea74-4784-a669-e535c48d8dfb",
   "metadata": {},
   "source": [
    "Import Libraries"
   ]
  },
  {
   "cell_type": "code",
   "execution_count": 2,
   "id": "16bd7203-7210-42be-a3d0-95f9397acf7d",
   "metadata": {},
   "outputs": [],
   "source": [
    "import pandas as pd\n",
    "import numpy as np\n",
    "import matplotlib.pyplot as plt\n",
    "import seaborn as sns\n",
    "sns.set_palette('colorblind')\n",
    "from app.conf import settings as sts\n",
    "from app.conf import utils as uts\n",
    "from app.conf import model_utils as muts\n",
    "import re\n",
    "import string\n",
    "from statsmodels.tsa.deterministic import DeterministicProcess, CalendarFourier\n",
    "from statsmodels.tsa.seasonal import seasonal_decompose, STL\n",
    "from sklearn.linear_model import LinearRegression\n",
    "from sklearn.compose import ColumnTransformer\n",
    "from sklearn.preprocessing import OneHotEncoder\n",
    "from sklearn.neighbors import KNeighborsRegressor\n",
    "from tqdm import tqdm\n",
    "import json"
   ]
  },
  {
   "cell_type": "code",
   "execution_count": null,
   "id": "8bdf73b4-e02f-42df-83a5-52637dce96a0",
   "metadata": {},
   "outputs": [],
   "source": []
  },
  {
   "cell_type": "markdown",
   "id": "a05df94c-d8fa-4e4f-a62a-b86a05d94d7c",
   "metadata": {},
   "source": [
    "#### Import Historical Data"
   ]
  },
  {
   "cell_type": "code",
   "execution_count": 3,
   "id": "b7cf54d5-7795-4542-8dd5-62b359debd2f",
   "metadata": {},
   "outputs": [],
   "source": [
    "dataset_filtered = uts.load_artifact('prices_dataframe', sts.LOCAL_ARTIFACTS_PATH)"
   ]
  },
  {
   "cell_type": "code",
   "execution_count": 4,
   "id": "851e3c07-b182-4a41-a9d8-96bcba712525",
   "metadata": {},
   "outputs": [
    {
     "data": {
      "text/html": [
       "<div>\n",
       "<style scoped>\n",
       "    .dataframe tbody tr th:only-of-type {\n",
       "        vertical-align: middle;\n",
       "    }\n",
       "\n",
       "    .dataframe tbody tr th {\n",
       "        vertical-align: top;\n",
       "    }\n",
       "\n",
       "    .dataframe thead th {\n",
       "        text-align: right;\n",
       "    }\n",
       "</style>\n",
       "<table border=\"1\" class=\"dataframe\">\n",
       "  <thead>\n",
       "    <tr style=\"text-align: right;\">\n",
       "      <th></th>\n",
       "      <th>date</th>\n",
       "      <th>group</th>\n",
       "      <th>product</th>\n",
       "      <th>market</th>\n",
       "      <th>mean_price</th>\n",
       "    </tr>\n",
       "  </thead>\n",
       "  <tbody>\n",
       "    <tr>\n",
       "      <th>0</th>\n",
       "      <td>2013-01-01</td>\n",
       "      <td>carnes</td>\n",
       "      <td>alas de pollo con costillar</td>\n",
       "      <td>armenia mercar</td>\n",
       "      <td>NaN</td>\n",
       "    </tr>\n",
       "    <tr>\n",
       "      <th>1</th>\n",
       "      <td>2013-02-01</td>\n",
       "      <td>carnes</td>\n",
       "      <td>alas de pollo con costillar</td>\n",
       "      <td>armenia mercar</td>\n",
       "      <td>NaN</td>\n",
       "    </tr>\n",
       "    <tr>\n",
       "      <th>2</th>\n",
       "      <td>2013-03-01</td>\n",
       "      <td>carnes</td>\n",
       "      <td>alas de pollo con costillar</td>\n",
       "      <td>armenia mercar</td>\n",
       "      <td>NaN</td>\n",
       "    </tr>\n",
       "    <tr>\n",
       "      <th>3</th>\n",
       "      <td>2013-04-01</td>\n",
       "      <td>carnes</td>\n",
       "      <td>alas de pollo con costillar</td>\n",
       "      <td>armenia mercar</td>\n",
       "      <td>NaN</td>\n",
       "    </tr>\n",
       "    <tr>\n",
       "      <th>4</th>\n",
       "      <td>2013-05-01</td>\n",
       "      <td>carnes</td>\n",
       "      <td>alas de pollo con costillar</td>\n",
       "      <td>armenia mercar</td>\n",
       "      <td>NaN</td>\n",
       "    </tr>\n",
       "  </tbody>\n",
       "</table>\n",
       "</div>"
      ],
      "text/plain": [
       "        date   group                      product          market mean_price\n",
       "0 2013-01-01  carnes  alas de pollo con costillar  armenia mercar        NaN\n",
       "1 2013-02-01  carnes  alas de pollo con costillar  armenia mercar        NaN\n",
       "2 2013-03-01  carnes  alas de pollo con costillar  armenia mercar        NaN\n",
       "3 2013-04-01  carnes  alas de pollo con costillar  armenia mercar        NaN\n",
       "4 2013-05-01  carnes  alas de pollo con costillar  armenia mercar        NaN"
      ]
     },
     "execution_count": 4,
     "metadata": {},
     "output_type": "execute_result"
    }
   ],
   "source": [
    "dataset_filtered.head()"
   ]
  },
  {
   "cell_type": "code",
   "execution_count": null,
   "id": "11e92234-a828-4ad1-8f44-69355fd1b8c0",
   "metadata": {},
   "outputs": [],
   "source": []
  },
  {
   "cell_type": "markdown",
   "id": "98c694bc-ad44-478d-ac13-d7aaf215290e",
   "metadata": {},
   "source": [
    "Parse Date format and describe"
   ]
  },
  {
   "cell_type": "code",
   "execution_count": 5,
   "id": "1fc56a4a-8079-49e1-bdf2-c255d43b0562",
   "metadata": {},
   "outputs": [],
   "source": [
    "dataset_filtered['date'] = pd.to_datetime(dataset_filtered['date'])"
   ]
  },
  {
   "cell_type": "code",
   "execution_count": 6,
   "id": "8ef4b206-0847-459a-83b1-9a3999be0621",
   "metadata": {},
   "outputs": [
    {
     "data": {
      "text/plain": [
       "count                 409320\n",
       "mean     2017-12-15 23:12:00\n",
       "min      2013-01-01 00:00:00\n",
       "25%      2015-06-23 12:00:00\n",
       "50%      2017-12-16 12:00:00\n",
       "75%      2020-06-08 12:00:00\n",
       "max      2022-12-01 00:00:00\n",
       "Name: date, dtype: object"
      ]
     },
     "execution_count": 6,
     "metadata": {},
     "output_type": "execute_result"
    }
   ],
   "source": [
    "dataset_filtered['date'].describe(datetime_is_numeric=True)"
   ]
  },
  {
   "cell_type": "code",
   "execution_count": null,
   "id": "2db8b6ca-85f8-4f42-90e7-1ff33a90e8b0",
   "metadata": {},
   "outputs": [],
   "source": []
  },
  {
   "cell_type": "markdown",
   "id": "7715bcbf-fb11-4bda-bfde-616c8062f1f6",
   "metadata": {
    "tags": []
   },
   "source": [
    "## Time Series Forecasting"
   ]
  },
  {
   "cell_type": "markdown",
   "id": "350304bf-94bc-4f67-9369-14698e1ea547",
   "metadata": {},
   "source": [
    "Instance continuous dates series"
   ]
  },
  {
   "cell_type": "code",
   "execution_count": 7,
   "id": "6d2d2ed0-c4e1-4a33-ac81-ffa4773c40ea",
   "metadata": {},
   "outputs": [],
   "source": [
    "date_range = pd.date_range(\n",
    "    start = dataset_filtered['date'].min(), \n",
    "    end = dataset_filtered['date'].max(), \n",
    "    freq = 'MS'\n",
    ")"
   ]
  },
  {
   "cell_type": "code",
   "execution_count": null,
   "id": "8c1fab5a-9682-4fc4-a380-47c61de17ab3",
   "metadata": {},
   "outputs": [],
   "source": []
  },
  {
   "cell_type": "markdown",
   "id": "5f502b31-b55d-49b0-a595-99f00e1d560c",
   "metadata": {},
   "source": [
    "Number of time series: Dataframe length / date range"
   ]
  },
  {
   "cell_type": "code",
   "execution_count": 8,
   "id": "9be11c12-9cd5-4a3f-b8e9-d91a03349329",
   "metadata": {},
   "outputs": [],
   "source": [
    "n_series = dataset_filtered.shape[0] // date_range.shape[0]"
   ]
  },
  {
   "cell_type": "code",
   "execution_count": null,
   "id": "e863db42-daef-4f6c-91fa-f7888955073e",
   "metadata": {},
   "outputs": [],
   "source": []
  },
  {
   "cell_type": "markdown",
   "id": "3c0f26fb-d289-4469-b750-2b32a15a0b6f",
   "metadata": {},
   "source": [
    "Number of unique groups, products and markets"
   ]
  },
  {
   "cell_type": "code",
   "execution_count": 9,
   "id": "43be5f8a-77c2-458b-b7e2-06e42042bdec",
   "metadata": {},
   "outputs": [
    {
     "data": {
      "text/plain": [
       "(8, 319, 72)"
      ]
     },
     "execution_count": 9,
     "metadata": {},
     "output_type": "execute_result"
    }
   ],
   "source": [
    "dataset_filtered['group'].nunique(), dataset_filtered['product'].nunique(), dataset_filtered['market'].nunique()"
   ]
  },
  {
   "cell_type": "code",
   "execution_count": null,
   "id": "a69e4e3c-719c-4f39-860a-15667a3d8e60",
   "metadata": {},
   "outputs": [],
   "source": []
  },
  {
   "cell_type": "markdown",
   "id": "03e7d611-c165-4e29-a0c3-9ab37ed0f4e5",
   "metadata": {},
   "source": [
    "Assign each time series an ID"
   ]
  },
  {
   "cell_type": "code",
   "execution_count": 10,
   "id": "26594b21-cda7-485d-b310-b64dd3296637",
   "metadata": {},
   "outputs": [],
   "source": [
    "dataset_filtered['series_id'] = dataset_filtered.groupby(['group', 'product', 'market']).ngroup()"
   ]
  },
  {
   "cell_type": "code",
   "execution_count": null,
   "id": "7895da2c-c27a-4e51-b580-2f7d201fe117",
   "metadata": {},
   "outputs": [],
   "source": []
  },
  {
   "cell_type": "markdown",
   "id": "3d18582e-ff2d-4808-a2ec-07baa8b7bb98",
   "metadata": {},
   "source": [
    "Define a Lambda function that creates a continuous date series starting from the input date (the first non-NULL value of a price series) and ending in the las recorded date in the consolidated DF"
   ]
  },
  {
   "cell_type": "code",
   "execution_count": 11,
   "id": "db6e4a17-1707-41b9-8346-8aa84781609f",
   "metadata": {},
   "outputs": [],
   "source": [
    "get_date_range = lambda start: pd.date_range(start = start, end = dataset_filtered['date'].max(), freq = 'MS')"
   ]
  },
  {
   "cell_type": "code",
   "execution_count": null,
   "id": "8f1fca9c-5467-42fa-bd45-655a885e2307",
   "metadata": {},
   "outputs": [],
   "source": []
  },
  {
   "cell_type": "markdown",
   "id": "973d1f97-cbfd-471c-9fe1-3d9c3d8ea460",
   "metadata": {},
   "source": [
    "Instance lists to persist the input and output variables of the 2nd stage model, based on the 1st stage models fitted to each separated TS"
   ]
  },
  {
   "cell_type": "code",
   "execution_count": 12,
   "id": "9745dd40-326c-49b3-b0a2-ac8d05f4e224",
   "metadata": {},
   "outputs": [],
   "source": [
    "# Inputs 2nd model fit (in-sample)\n",
    "multi_X_2 = []\n",
    "# Inputs 2nd model prediction (out-of-sample)\n",
    "multi_X_fore_2 = []\n",
    "# Outputs 2nd model fit (in-sample)\n",
    "multi_y_2 = []\n",
    "# Series ID\n",
    "series_id_series = []\n",
    "# 1st model fitted-values\n",
    "multi_y_pred_1 = []"
   ]
  },
  {
   "cell_type": "code",
   "execution_count": 13,
   "id": "61d3e6bc-72df-4fe7-a80c-8668f9b3b948",
   "metadata": {},
   "outputs": [],
   "source": [
    "predictions = {}"
   ]
  },
  {
   "cell_type": "code",
   "execution_count": 14,
   "id": "1f4277fe-e2cd-43fc-8bb0-e0d3f39d4db0",
   "metadata": {
    "tags": []
   },
   "outputs": [
    {
     "name": "stderr",
     "output_type": "stream",
     "text": [
      "100%|█████████████████████████████████████████████████████████████| 3411/3411 [00:32<00:00, 104.80it/s]\n"
     ]
    }
   ],
   "source": [
    "# For every Series ID ...\n",
    "for series_id, series_df in tqdm(dataset_filtered.groupby('series_id')):\n",
    "    series_df.set_index('date', inplace=True)\n",
    "    # Extract Product Group\n",
    "    group = series_df['group'].unique()[0]\n",
    "    # Extract time series\n",
    "    y = series_df['mean_price'].astype(float)\n",
    "    # Get first non-null value index\n",
    "    date_range_idx = get_date_range(y.first_valid_index())\n",
    "    # Reindex TS\n",
    "    y = y.reindex(date_range_idx).interpolate('linear')\n",
    "    \n",
    "    # Get in-sample and out-of-sample inputs for 1st-stage model\n",
    "    X_1, X_fore_1 = muts.get_X_det(y, forecast_steps = 1)\n",
    "    # Fit 1st-stage model: capture model, 1st stage model preds and 1st model residuals\n",
    "    model_1, y_pred_1, residuals = muts.get_model(y, X_1, LinearRegression(), return_residuals = True)\n",
    "    \n",
    "    # Persist 1st stage model point forecast\n",
    "    pred = {\n",
    "        'index':X_fore_1.index[0],\n",
    "        'point_det':model_1.predict(X_fore_1)[0]\n",
    "    }\n",
    "    predictions[series_id] = pred\n",
    "    \n",
    "    # Get 2nd stage input and outputs\n",
    "    y_2, X_fore_2, X_2 = muts.get_X_res(residuals, 3)\n",
    "    X_2['group'] = group\n",
    "    X_fore_2['group'] = group\n",
    "    \n",
    "    # Persist 1st stage fitted and true values\n",
    "    y_pred_frame_1 = y_pred_1.iloc[3:].to_frame()\n",
    "    y_pred_frame_1['series_id'] = series_id\n",
    "    y_pred_frame_1['y_true'] = y.iloc[3:]\n",
    "    \n",
    "    # Persist elements in lists\n",
    "    multi_y_pred_1.append(y_pred_frame_1)\n",
    "    multi_X_2.append(X_2)\n",
    "    multi_X_fore_2.append(X_fore_2)\n",
    "    multi_y_2.append(y_2)"
   ]
  },
  {
   "cell_type": "code",
   "execution_count": null,
   "id": "6595c540-3fd1-458b-9057-8d07626123fa",
   "metadata": {},
   "outputs": [],
   "source": []
  },
  {
   "cell_type": "markdown",
   "id": "477af3b7-ffa6-496b-8ef2-8a835266646c",
   "metadata": {},
   "source": [
    "Concatenate elements in lists"
   ]
  },
  {
   "cell_type": "code",
   "execution_count": 15,
   "id": "60ffe392-3f08-4f74-a8df-4f9dd23e9de7",
   "metadata": {
    "tags": []
   },
   "outputs": [],
   "source": [
    "multi_X_2 = pd.concat(multi_X_2)\n",
    "multi_X_fore_2 = pd.concat(multi_X_fore_2)\n",
    "multi_y_2 = pd.concat(multi_y_2)\n",
    "\n",
    "multi_y_pred_1 = pd.concat(multi_y_pred_1)"
   ]
  },
  {
   "cell_type": "code",
   "execution_count": 16,
   "id": "7a89b57f-fa97-47d7-b2ce-37c7ad33363e",
   "metadata": {},
   "outputs": [],
   "source": [
    "forecast_date = X_fore_1.index[0].strftime('%Y-%m')"
   ]
  },
  {
   "cell_type": "code",
   "execution_count": 17,
   "id": "ab610192-3a0d-4c82-ae03-0019688f688c",
   "metadata": {},
   "outputs": [
    {
     "data": {
      "text/plain": [
       "{'index': Timestamp('2023-01-01 00:00:00', freq='MS'),\n",
       " 'point_det': 12164.680508118698}"
      ]
     },
     "execution_count": 17,
     "metadata": {},
     "output_type": "execute_result"
    }
   ],
   "source": [
    "predictions[0]"
   ]
  },
  {
   "cell_type": "markdown",
   "id": "8830b4a9-9917-4c8f-8ee4-fc7c57b0eb77",
   "metadata": {},
   "source": [
    "### 2nd Stage Model"
   ]
  },
  {
   "cell_type": "code",
   "execution_count": null,
   "id": "c14a219f-2e16-48f9-b152-947d85003250",
   "metadata": {},
   "outputs": [],
   "source": []
  },
  {
   "cell_type": "markdown",
   "id": "465fe58d-abd6-4518-bf1d-fddadab865d9",
   "metadata": {},
   "source": [
    "Instance feature pipeline for 2nd stage / general model"
   ]
  },
  {
   "cell_type": "code",
   "execution_count": 18,
   "id": "a8b9086d-4bc4-42fa-8786-785d27db96b1",
   "metadata": {},
   "outputs": [],
   "source": [
    "feature_pipeline = ColumnTransformer(\n",
    "    transformers=[\n",
    "        ('group_onehot', OneHotEncoder(handle_unknown='ignore'), ['group']),\n",
    "        ('numeric', 'passthrough', ['y_lag_1', 'y_lag_2', 'y_lag_3', 'y_rolling_std'])\n",
    "    ],\n",
    ")"
   ]
  },
  {
   "cell_type": "code",
   "execution_count": null,
   "id": "610cc05b-36a0-47d6-b22e-3ba84ae1ce3d",
   "metadata": {},
   "outputs": [],
   "source": []
  },
  {
   "cell_type": "markdown",
   "id": "ea5079d6-c882-4b36-a459-2d3d61234bda",
   "metadata": {},
   "source": [
    "Fit and transform 2nd stage model inputs"
   ]
  },
  {
   "cell_type": "code",
   "execution_count": 19,
   "id": "938e4352-51d6-4754-aa44-996bf114dd0e",
   "metadata": {},
   "outputs": [
    {
     "data": {
      "text/html": [
       "<style>#sk-container-id-1 {color: black;background-color: white;}#sk-container-id-1 pre{padding: 0;}#sk-container-id-1 div.sk-toggleable {background-color: white;}#sk-container-id-1 label.sk-toggleable__label {cursor: pointer;display: block;width: 100%;margin-bottom: 0;padding: 0.3em;box-sizing: border-box;text-align: center;}#sk-container-id-1 label.sk-toggleable__label-arrow:before {content: \"▸\";float: left;margin-right: 0.25em;color: #696969;}#sk-container-id-1 label.sk-toggleable__label-arrow:hover:before {color: black;}#sk-container-id-1 div.sk-estimator:hover label.sk-toggleable__label-arrow:before {color: black;}#sk-container-id-1 div.sk-toggleable__content {max-height: 0;max-width: 0;overflow: hidden;text-align: left;background-color: #f0f8ff;}#sk-container-id-1 div.sk-toggleable__content pre {margin: 0.2em;color: black;border-radius: 0.25em;background-color: #f0f8ff;}#sk-container-id-1 input.sk-toggleable__control:checked~div.sk-toggleable__content {max-height: 200px;max-width: 100%;overflow: auto;}#sk-container-id-1 input.sk-toggleable__control:checked~label.sk-toggleable__label-arrow:before {content: \"▾\";}#sk-container-id-1 div.sk-estimator input.sk-toggleable__control:checked~label.sk-toggleable__label {background-color: #d4ebff;}#sk-container-id-1 div.sk-label input.sk-toggleable__control:checked~label.sk-toggleable__label {background-color: #d4ebff;}#sk-container-id-1 input.sk-hidden--visually {border: 0;clip: rect(1px 1px 1px 1px);clip: rect(1px, 1px, 1px, 1px);height: 1px;margin: -1px;overflow: hidden;padding: 0;position: absolute;width: 1px;}#sk-container-id-1 div.sk-estimator {font-family: monospace;background-color: #f0f8ff;border: 1px dotted black;border-radius: 0.25em;box-sizing: border-box;margin-bottom: 0.5em;}#sk-container-id-1 div.sk-estimator:hover {background-color: #d4ebff;}#sk-container-id-1 div.sk-parallel-item::after {content: \"\";width: 100%;border-bottom: 1px solid gray;flex-grow: 1;}#sk-container-id-1 div.sk-label:hover label.sk-toggleable__label {background-color: #d4ebff;}#sk-container-id-1 div.sk-serial::before {content: \"\";position: absolute;border-left: 1px solid gray;box-sizing: border-box;top: 0;bottom: 0;left: 50%;z-index: 0;}#sk-container-id-1 div.sk-serial {display: flex;flex-direction: column;align-items: center;background-color: white;padding-right: 0.2em;padding-left: 0.2em;position: relative;}#sk-container-id-1 div.sk-item {position: relative;z-index: 1;}#sk-container-id-1 div.sk-parallel {display: flex;align-items: stretch;justify-content: center;background-color: white;position: relative;}#sk-container-id-1 div.sk-item::before, #sk-container-id-1 div.sk-parallel-item::before {content: \"\";position: absolute;border-left: 1px solid gray;box-sizing: border-box;top: 0;bottom: 0;left: 50%;z-index: -1;}#sk-container-id-1 div.sk-parallel-item {display: flex;flex-direction: column;z-index: 1;position: relative;background-color: white;}#sk-container-id-1 div.sk-parallel-item:first-child::after {align-self: flex-end;width: 50%;}#sk-container-id-1 div.sk-parallel-item:last-child::after {align-self: flex-start;width: 50%;}#sk-container-id-1 div.sk-parallel-item:only-child::after {width: 0;}#sk-container-id-1 div.sk-dashed-wrapped {border: 1px dashed gray;margin: 0 0.4em 0.5em 0.4em;box-sizing: border-box;padding-bottom: 0.4em;background-color: white;}#sk-container-id-1 div.sk-label label {font-family: monospace;font-weight: bold;display: inline-block;line-height: 1.2em;}#sk-container-id-1 div.sk-label-container {text-align: center;}#sk-container-id-1 div.sk-container {/* jupyter's `normalize.less` sets `[hidden] { display: none; }` but bootstrap.min.css set `[hidden] { display: none !important; }` so we also need the `!important` here to be able to override the default hidden behavior on the sphinx rendered scikit-learn.org. See: https://github.com/scikit-learn/scikit-learn/issues/21755 */display: inline-block !important;position: relative;}#sk-container-id-1 div.sk-text-repr-fallback {display: none;}</style><div id=\"sk-container-id-1\" class=\"sk-top-container\"><div class=\"sk-text-repr-fallback\"><pre>ColumnTransformer(transformers=[(&#x27;group_onehot&#x27;,\n",
       "                                 OneHotEncoder(handle_unknown=&#x27;ignore&#x27;),\n",
       "                                 [&#x27;group&#x27;]),\n",
       "                                (&#x27;numeric&#x27;, &#x27;passthrough&#x27;,\n",
       "                                 [&#x27;y_lag_1&#x27;, &#x27;y_lag_2&#x27;, &#x27;y_lag_3&#x27;,\n",
       "                                  &#x27;y_rolling_std&#x27;])])</pre><b>In a Jupyter environment, please rerun this cell to show the HTML representation or trust the notebook. <br />On GitHub, the HTML representation is unable to render, please try loading this page with nbviewer.org.</b></div><div class=\"sk-container\" hidden><div class=\"sk-item sk-dashed-wrapped\"><div class=\"sk-label-container\"><div class=\"sk-label sk-toggleable\"><input class=\"sk-toggleable__control sk-hidden--visually\" id=\"sk-estimator-id-1\" type=\"checkbox\" ><label for=\"sk-estimator-id-1\" class=\"sk-toggleable__label sk-toggleable__label-arrow\">ColumnTransformer</label><div class=\"sk-toggleable__content\"><pre>ColumnTransformer(transformers=[(&#x27;group_onehot&#x27;,\n",
       "                                 OneHotEncoder(handle_unknown=&#x27;ignore&#x27;),\n",
       "                                 [&#x27;group&#x27;]),\n",
       "                                (&#x27;numeric&#x27;, &#x27;passthrough&#x27;,\n",
       "                                 [&#x27;y_lag_1&#x27;, &#x27;y_lag_2&#x27;, &#x27;y_lag_3&#x27;,\n",
       "                                  &#x27;y_rolling_std&#x27;])])</pre></div></div></div><div class=\"sk-parallel\"><div class=\"sk-parallel-item\"><div class=\"sk-item\"><div class=\"sk-label-container\"><div class=\"sk-label sk-toggleable\"><input class=\"sk-toggleable__control sk-hidden--visually\" id=\"sk-estimator-id-2\" type=\"checkbox\" ><label for=\"sk-estimator-id-2\" class=\"sk-toggleable__label sk-toggleable__label-arrow\">group_onehot</label><div class=\"sk-toggleable__content\"><pre>[&#x27;group&#x27;]</pre></div></div></div><div class=\"sk-serial\"><div class=\"sk-item\"><div class=\"sk-estimator sk-toggleable\"><input class=\"sk-toggleable__control sk-hidden--visually\" id=\"sk-estimator-id-3\" type=\"checkbox\" ><label for=\"sk-estimator-id-3\" class=\"sk-toggleable__label sk-toggleable__label-arrow\">OneHotEncoder</label><div class=\"sk-toggleable__content\"><pre>OneHotEncoder(handle_unknown=&#x27;ignore&#x27;)</pre></div></div></div></div></div></div><div class=\"sk-parallel-item\"><div class=\"sk-item\"><div class=\"sk-label-container\"><div class=\"sk-label sk-toggleable\"><input class=\"sk-toggleable__control sk-hidden--visually\" id=\"sk-estimator-id-4\" type=\"checkbox\" ><label for=\"sk-estimator-id-4\" class=\"sk-toggleable__label sk-toggleable__label-arrow\">numeric</label><div class=\"sk-toggleable__content\"><pre>[&#x27;y_lag_1&#x27;, &#x27;y_lag_2&#x27;, &#x27;y_lag_3&#x27;, &#x27;y_rolling_std&#x27;]</pre></div></div></div><div class=\"sk-serial\"><div class=\"sk-item\"><div class=\"sk-estimator sk-toggleable\"><input class=\"sk-toggleable__control sk-hidden--visually\" id=\"sk-estimator-id-5\" type=\"checkbox\" ><label for=\"sk-estimator-id-5\" class=\"sk-toggleable__label sk-toggleable__label-arrow\">passthrough</label><div class=\"sk-toggleable__content\"><pre>passthrough</pre></div></div></div></div></div></div></div></div></div></div>"
      ],
      "text/plain": [
       "ColumnTransformer(transformers=[('group_onehot',\n",
       "                                 OneHotEncoder(handle_unknown='ignore'),\n",
       "                                 ['group']),\n",
       "                                ('numeric', 'passthrough',\n",
       "                                 ['y_lag_1', 'y_lag_2', 'y_lag_3',\n",
       "                                  'y_rolling_std'])])"
      ]
     },
     "execution_count": 19,
     "metadata": {},
     "output_type": "execute_result"
    }
   ],
   "source": [
    "feature_pipeline.fit(multi_X_2)"
   ]
  },
  {
   "cell_type": "code",
   "execution_count": 20,
   "id": "fa5f5c74-47ac-4694-803d-9b83fcd9a30f",
   "metadata": {},
   "outputs": [],
   "source": [
    "trans_multi_X_2 = feature_pipeline.transform(multi_X_2)"
   ]
  },
  {
   "cell_type": "code",
   "execution_count": 21,
   "id": "b769fd53-8359-42ac-81d8-507afb4f6564",
   "metadata": {},
   "outputs": [
    {
     "data": {
      "text/plain": [
       "(377501, 12)"
      ]
     },
     "execution_count": 21,
     "metadata": {},
     "output_type": "execute_result"
    }
   ],
   "source": [
    "trans_multi_X_2.shape"
   ]
  },
  {
   "cell_type": "code",
   "execution_count": null,
   "id": "7b284718-988d-4b76-b3cb-1ed8c2187d4d",
   "metadata": {},
   "outputs": [],
   "source": []
  },
  {
   "cell_type": "markdown",
   "id": "c3d0135e-f872-4a95-a183-6b17fa19c370",
   "metadata": {},
   "source": [
    "Fit 2nd stage model and get its fitted values"
   ]
  },
  {
   "cell_type": "code",
   "execution_count": 22,
   "id": "00d67c54-f5be-454d-9f1d-c499158ca0c2",
   "metadata": {},
   "outputs": [],
   "source": [
    "model_2, multi_y_pred_2 = muts.get_model(multi_y_2, trans_multi_X_2, KNeighborsRegressor(), return_residuals=False)"
   ]
  },
  {
   "cell_type": "code",
   "execution_count": null,
   "id": "75d46184-defb-40cf-aafe-adf3de2b3ea4",
   "metadata": {},
   "outputs": [],
   "source": []
  },
  {
   "cell_type": "markdown",
   "id": "74ad6efd-e421-4d0f-8c2d-d7b1b9d9eef3",
   "metadata": {},
   "source": [
    "Get 1st stage and 2nd stage model(s) fitted values and sum them up"
   ]
  },
  {
   "cell_type": "code",
   "execution_count": 23,
   "id": "2c7d7772-ecb8-4b19-8c38-da343cbe2d4c",
   "metadata": {},
   "outputs": [
    {
     "data": {
      "text/plain": [
       "(377501, 3)"
      ]
     },
     "execution_count": 23,
     "metadata": {},
     "output_type": "execute_result"
    }
   ],
   "source": [
    "multi_y_pred_1.shape"
   ]
  },
  {
   "cell_type": "code",
   "execution_count": 24,
   "id": "f17a7160-8158-4dd9-a71f-636eb49da75b",
   "metadata": {},
   "outputs": [
    {
     "data": {
      "text/plain": [
       "(377501,)"
      ]
     },
     "execution_count": 24,
     "metadata": {},
     "output_type": "execute_result"
    }
   ],
   "source": [
    "multi_y_pred_2.shape"
   ]
  },
  {
   "cell_type": "code",
   "execution_count": 25,
   "id": "809aa624-1b2a-4743-88a8-f110ce02802c",
   "metadata": {},
   "outputs": [],
   "source": [
    "multi_y_pred_1['y_pred'] = multi_y_pred_2 + multi_y_pred_1[0]"
   ]
  },
  {
   "cell_type": "markdown",
   "id": "b1097975-e209-474c-9a24-c665bd27dbae",
   "metadata": {},
   "source": [
    "Get general residuals from the general fitted values (1st stage + 2nd stage)"
   ]
  },
  {
   "cell_type": "code",
   "execution_count": 26,
   "id": "0af3e7b2-29d7-46c2-896c-4fb93ce3e401",
   "metadata": {},
   "outputs": [],
   "source": [
    "multi_y_pred_1['residuals'] = multi_y_pred_1['y_true'] - multi_y_pred_1['y_pred']"
   ]
  },
  {
   "cell_type": "markdown",
   "id": "1f7af0ba-4d40-493a-a614-55d1a7bc3756",
   "metadata": {},
   "source": [
    "Compute general residual STD"
   ]
  },
  {
   "cell_type": "code",
   "execution_count": 27,
   "id": "17f67893-bf86-48b3-93ed-dae33337743d",
   "metadata": {},
   "outputs": [],
   "source": [
    "std_preds = multi_y_pred_1.groupby(['series_id'])['residuals'].std().to_dict()"
   ]
  },
  {
   "cell_type": "code",
   "execution_count": null,
   "id": "44a84a0c-aa58-402b-bfa0-2da159f7605c",
   "metadata": {},
   "outputs": [],
   "source": []
  },
  {
   "cell_type": "markdown",
   "id": "2717dcfa-0ab9-4b6b-9a15-ff1027e274c4",
   "metadata": {},
   "source": [
    "Predict 2nd stage model out-of-sample values"
   ]
  },
  {
   "cell_type": "code",
   "execution_count": 28,
   "id": "6a08c243-031c-4ac1-9e7b-3b8d4169b8c6",
   "metadata": {},
   "outputs": [],
   "source": [
    "point_res = pd.Series(model_2.predict(feature_pipeline.transform(multi_X_fore_2)), index = np.arange(multi_X_fore_2.shape[0])).to_dict()"
   ]
  },
  {
   "cell_type": "markdown",
   "id": "fd21f5be-7e9c-40c4-be6f-7e5235c6e345",
   "metadata": {},
   "source": [
    "Consolidate predictions as the sum of point predictions in the 1st and 2nd stage models"
   ]
  },
  {
   "cell_type": "code",
   "execution_count": 29,
   "id": "3de7879b-1bcb-40a7-bfe7-9e7614b1afdf",
   "metadata": {},
   "outputs": [],
   "source": [
    "final_predictions = {\n",
    "    series_id:{\n",
    "        'point_res': point_res[series_id],\n",
    "        **predictions[series_id],\n",
    "        'std': std_preds[series_id],\n",
    "        'point': predictions[series_id]['point_det'] + point_res[series_id],\n",
    "        'lower': predictions[series_id]['point_det'] + point_res[series_id] - 1.96 * std_preds[series_id],\n",
    "        'upper': predictions[series_id]['point_det'] + point_res[series_id] + 1.96 * std_preds[series_id]\n",
    "    }\n",
    "    for series_id in np.arange(n_series)\n",
    "}"
   ]
  },
  {
   "cell_type": "code",
   "execution_count": null,
   "id": "4e935d76-5d2e-4011-9bea-54663862323f",
   "metadata": {},
   "outputs": [],
   "source": []
  },
  {
   "cell_type": "markdown",
   "id": "8dcc14fa-c55b-494b-ae75-d3d62425445c",
   "metadata": {},
   "source": [
    "Series example"
   ]
  },
  {
   "cell_type": "code",
   "execution_count": 30,
   "id": "d479ef90-bc78-474a-8252-64a6ba361451",
   "metadata": {},
   "outputs": [],
   "source": [
    "series_id = 549"
   ]
  },
  {
   "cell_type": "code",
   "execution_count": 31,
   "id": "bd10907c-55ad-4f20-bef2-b611888f4781",
   "metadata": {},
   "outputs": [
    {
     "data": {
      "text/plain": [
       "{'point_res': -39.685017664565315,\n",
       " 'index': Timestamp('2023-01-01 00:00:00', freq='MS'),\n",
       " 'point_det': 6880.5687295256885,\n",
       " 'std': 260.29986981016367,\n",
       " 'point': 6840.883711861123,\n",
       " 'lower': 6330.695967033202,\n",
       " 'upper': 7351.071456689044}"
      ]
     },
     "execution_count": 31,
     "metadata": {},
     "output_type": "execute_result"
    }
   ],
   "source": [
    "final_predictions[series_id]"
   ]
  },
  {
   "cell_type": "code",
   "execution_count": 32,
   "id": "af660db7-bfdd-40ef-9302-a7506a9136eb",
   "metadata": {},
   "outputs": [],
   "source": [
    "series_df = dataset_filtered[dataset_filtered.series_id==series_id]\n",
    "series_df.set_index('date', inplace=True)\n",
    "group = series_df['group'].unique()[0]\n",
    "y = series_df['mean_price']\n",
    "date_range_idx = get_date_range(y.first_valid_index())\n",
    "y = y.reindex(date_range_idx).interpolate()"
   ]
  },
  {
   "cell_type": "code",
   "execution_count": 33,
   "id": "e2337d48-7976-4bf4-817a-bdd0e69c1bc0",
   "metadata": {},
   "outputs": [
    {
     "data": {
      "image/png": "[encoded data removed]",
      "text/plain": [
       "<Figure size 640x480 with 1 Axes>"
      ]
     },
     "metadata": {},
     "output_type": "display_data"
    }
   ],
   "source": [
    "plt.plot(y, marker = '.', markersize=5)\n",
    "plt.scatter(x = final_predictions[series_id]['index'],\n",
    "            y = final_predictions[series_id]['point'], color = 'b',\n",
    "            label = 'point forecast',\n",
    "            s = 5)\n",
    "plt.scatter(x = final_predictions[series_id]['index'],\n",
    "            y = final_predictions[series_id]['lower'], color = 'g',\n",
    "            label = 'forecast lower bound',\n",
    "            s = 5)\n",
    "plt.scatter(x = final_predictions[series_id]['index'],\n",
    "            y = final_predictions[series_id]['upper'], color = 'r',\n",
    "            label = 'forecast upper bound',\n",
    "            s = 5)\n",
    "plt.legend()\n",
    "plt.ylim(bottom=0)\n",
    "plt.show()"
   ]
  },
  {
   "cell_type": "code",
   "execution_count": null,
   "id": "d4ab5326-5cd2-47b6-8c53-781df3c19524",
   "metadata": {},
   "outputs": [],
   "source": []
  },
  {
   "cell_type": "markdown",
   "id": "54590db3-9810-488c-8770-06ff31d1837b",
   "metadata": {},
   "source": [
    "#### Build routing dicts: \n",
    "1. series_to_id_dict: tuple(product, market) -> series_id\n",
    "2. id_to_market_dict: series_id -> market\n",
    "3. product_to_series_dict: product -> list(series_ids) product in different markets"
   ]
  },
  {
   "cell_type": "code",
   "execution_count": 34,
   "id": "ca353e4f-7c7e-4e2b-bb33-07d19ed43646",
   "metadata": {},
   "outputs": [],
   "source": [
    "series_to_id_dict = dataset_filtered[['product', 'market', 'series_id']].drop_duplicates().set_index(['product', 'market']).squeeze().to_dict()"
   ]
  },
  {
   "cell_type": "code",
   "execution_count": 35,
   "id": "b195d703-0904-4235-a0bd-27885163509b",
   "metadata": {},
   "outputs": [
    {
     "data": {
      "text/plain": [
       "3411"
      ]
     },
     "execution_count": 35,
     "metadata": {},
     "output_type": "execute_result"
    }
   ],
   "source": [
    "len(series_to_id_dict)"
   ]
  },
  {
   "cell_type": "code",
   "execution_count": 36,
   "id": "e744b1a4-396e-47f7-8728-ceefd2be6426",
   "metadata": {
    "tags": []
   },
   "outputs": [],
   "source": [
    "id_to_market_dict = {v:k[1] for k,v in series_to_id_dict.items()}"
   ]
  },
  {
   "cell_type": "code",
   "execution_count": 37,
   "id": "693eb7dc-1b8c-4164-9106-1172830ef313",
   "metadata": {
    "tags": []
   },
   "outputs": [
    {
     "data": {
      "text/plain": [
       "3411"
      ]
     },
     "execution_count": 37,
     "metadata": {},
     "output_type": "execute_result"
    }
   ],
   "source": [
    "len(id_to_market_dict)"
   ]
  },
  {
   "cell_type": "code",
   "execution_count": 38,
   "id": "84b8ae83-5e9a-4690-916a-7841c47e8493",
   "metadata": {},
   "outputs": [],
   "source": [
    "product_to_series_dict = dataset_filtered[['product', 'series_id']].drop_duplicates().groupby(['product'])['series_id'].apply(lambda x: list(np.unique(x))).to_dict()"
   ]
  },
  {
   "cell_type": "code",
   "execution_count": 39,
   "id": "fdd1a6f5-ebdb-43fc-b58e-d2f4676a56e2",
   "metadata": {},
   "outputs": [
    {
     "data": {
      "text/plain": [
       "319"
      ]
     },
     "execution_count": 39,
     "metadata": {},
     "output_type": "execute_result"
    }
   ],
   "source": [
    "len(product_to_series_dict)"
   ]
  },
  {
   "cell_type": "code",
   "execution_count": null,
   "id": "7d3e0bdc-2228-4e47-b085-7a50d4c7d148",
   "metadata": {},
   "outputs": [],
   "source": []
  },
  {
   "cell_type": "markdown",
   "id": "e2e0107d-c2eb-481f-99a4-c06c28ce1f95",
   "metadata": {},
   "source": [
    "### Request Methods Examples"
   ]
  },
  {
   "cell_type": "markdown",
   "id": "4cade776-1abf-444d-a281-e07bb1ac5ae1",
   "metadata": {},
   "source": [
    "#### Multiple series for one product query"
   ]
  },
  {
   "cell_type": "code",
   "execution_count": 40,
   "id": "e23947bd-0439-4ace-ba07-dc7e52c7a5b6",
   "metadata": {},
   "outputs": [],
   "source": [
    "product = 'maracuya'"
   ]
  },
  {
   "cell_type": "code",
   "execution_count": 41,
   "id": "0638569b-7481-4eb4-a957-c2de45567242",
   "metadata": {},
   "outputs": [],
   "source": [
    "series_for_product = product_to_series_dict.get(product, [])"
   ]
  },
  {
   "cell_type": "code",
   "execution_count": 42,
   "id": "5af6f99d-aa7d-4ddc-95d0-a37d431e33be",
   "metadata": {},
   "outputs": [],
   "source": [
    "predictions = {}"
   ]
  },
  {
   "cell_type": "code",
   "execution_count": 43,
   "id": "63dec69d-ad04-4205-b9f1-f48487030c8b",
   "metadata": {},
   "outputs": [],
   "source": [
    "for series_id in series_for_product:\n",
    "    market = id_to_market_dict[series_id]\n",
    "    predictions[market] = {\n",
    "        'point': final_predictions[series_id]['point'],\n",
    "        'lower': final_predictions[series_id]['lower'],\n",
    "        'upper': final_predictions[series_id]['upper']\n",
    "    }"
   ]
  },
  {
   "cell_type": "code",
   "execution_count": 44,
   "id": "11e76f51-8b93-4446-b80f-54ebffa85d0e",
   "metadata": {
    "tags": []
   },
   "outputs": [
    {
     "data": {
      "text/plain": [
       "{'arauca arauca': {'point': 3190.5051680537154,\n",
       "  'lower': 2613.9313699147824,\n",
       "  'upper': 3767.0789661926483},\n",
       " 'armenia mercar': {'point': 3302.6021235540147,\n",
       "  'lower': 2631.4892465720905,\n",
       "  'upper': 3973.715000535939},\n",
       " 'bogota dc corabastos': {'point': 3473.723557425532,\n",
       "  'lower': 2242.040721722351,\n",
       "  'upper': 4705.406393128713},\n",
       " 'bucaramanga centroabastos': {'point': 3375.145136345196,\n",
       "  'lower': 2586.763911210064,\n",
       "  'upper': 4163.526361480328},\n",
       " 'buenaventura valle del cauca': {'point': 3757.5284513980537,\n",
       "  'lower': 3093.1761604269614,\n",
       "  'upper': 4421.880742369146},\n",
       " 'cali cavasa': {'point': 2991.5618801012392,\n",
       "  'lower': 2246.211911698673,\n",
       "  'upper': 3736.9118485038057},\n",
       " 'cartago valle del cauca': {'point': 3471.6582921870627,\n",
       "  'lower': 2733.1954768859396,\n",
       "  'upper': 4210.121107488186},\n",
       " 'chiquinquira boyaca': {'point': 3061.7526281752375,\n",
       "  'lower': 1887.774522631735,\n",
       "  'upper': 4235.73073371874},\n",
       " 'cucuta cenabastos': {'point': 4007.318220114783,\n",
       "  'lower': 3270.81925302105,\n",
       "  'upper': 4743.817187208516},\n",
       " 'ibague plaza la 21': {'point': 2796.4578673794977,\n",
       "  'lower': 2111.6224699741306,\n",
       "  'upper': 3481.2932647848647},\n",
       " 'la ceja antioquia': {'point': 2806.735840113811,\n",
       "  'lower': 2239.7273860252108,\n",
       "  'upper': 3373.744294202411},\n",
       " 'manizales centro galerias': {'point': 3216.1662462498366,\n",
       "  'lower': 2504.280399827131,\n",
       "  'upper': 3928.052092672542},\n",
       " 'medellin plaza minorista jose maria villa': {'point': 2944.419396876094,\n",
       "  'lower': 2391.1521608587063,\n",
       "  'upper': 3497.686632893482},\n",
       " 'palmira valle del cauca': {'point': 3097.2517041205497,\n",
       "  'lower': 2343.454780482896,\n",
       "  'upper': 3851.0486277582036},\n",
       " 'pamplona norte de santander': {'point': 3613.8365980317017,\n",
       "  'lower': 2900.7840194539385,\n",
       "  'upper': 4326.889176609465},\n",
       " 'pasto el potrerillo': {'point': 3051.353163072238,\n",
       "  'lower': 2443.5903182390603,\n",
       "  'upper': 3659.116007905416},\n",
       " 'pereira la 41': {'point': 2955.3534414792844,\n",
       "  'lower': 2234.1163318214294,\n",
       "  'upper': 3676.5905511371393},\n",
       " 'pereira mercasa': {'point': 3613.720799619355,\n",
       "  'lower': 2868.3709381067374,\n",
       "  'upper': 4359.070661131973},\n",
       " 'popayan plaza de mercado del barrio bolivar': {'point': 3604.6609216560364,\n",
       "  'lower': 2815.098313562934,\n",
       "  'upper': 4394.223529749139},\n",
       " 'rionegro antioquia': {'point': 3234.7734882736668,\n",
       "  'lower': 2689.7512126835945,\n",
       "  'upper': 3779.795763863739},\n",
       " 'san gil santander': {'point': 3346.7180233862287,\n",
       "  'lower': 2523.512483138268,\n",
       "  'upper': 4169.923563634189},\n",
       " 'socorro santander': {'point': 2916.632372197444,\n",
       "  'lower': 2138.5895303325133,\n",
       "  'upper': 3694.675214062375},\n",
       " 'tulua valle del cauca': {'point': 3618.7425345454044,\n",
       "  'lower': 2763.5146369827908,\n",
       "  'upper': 4473.970432108018},\n",
       " 'tunja complejo de servicios del sur': {'point': 3037.14426108502,\n",
       "  'lower': 2156.148191959174,\n",
       "  'upper': 3918.140330210866},\n",
       " 'tuquerres narino': {'point': 3515.591607214209,\n",
       "  'lower': 3086.3772173454404,\n",
       "  'upper': 3944.8059970829777},\n",
       " 'villavicencio cav': {'point': 3276.013557960679,\n",
       "  'lower': 2161.5507354190663,\n",
       "  'upper': 4390.476380502292},\n",
       " 'yopal casanare': {'point': 2740.9741587840144,\n",
       "  'lower': 1844.130883369192,\n",
       "  'upper': 3637.817434198837}}"
      ]
     },
     "execution_count": 44,
     "metadata": {},
     "output_type": "execute_result"
    }
   ],
   "source": [
    "predictions"
   ]
  },
  {
   "cell_type": "code",
   "execution_count": null,
   "id": "cf249091-7105-4142-a083-e1e12f634f51",
   "metadata": {},
   "outputs": [],
   "source": []
  },
  {
   "cell_type": "markdown",
   "id": "b2925e01-1deb-4007-8b10-5f669d454d0d",
   "metadata": {},
   "source": [
    "#### One series for one product-market query"
   ]
  },
  {
   "cell_type": "code",
   "execution_count": 45,
   "id": "afb45a9a-2933-4778-8da9-b01c22bf5298",
   "metadata": {},
   "outputs": [],
   "source": [
    "product = 'maracuya'\n",
    "market = 'bogota dc corabastos'"
   ]
  },
  {
   "cell_type": "code",
   "execution_count": 46,
   "id": "78462d3b-4460-49c2-83c3-fb500a0f6c9d",
   "metadata": {},
   "outputs": [],
   "source": [
    "series_for_product_market = series_to_id_dict.get((product, market), -1)"
   ]
  },
  {
   "cell_type": "code",
   "execution_count": null,
   "id": "2dde6371-9ba0-445b-b0ed-8ea62c8661bb",
   "metadata": {},
   "outputs": [],
   "source": []
  },
  {
   "cell_type": "code",
   "execution_count": 47,
   "id": "9fedaf95-0d7b-4e00-be36-c5f833a7a029",
   "metadata": {},
   "outputs": [
    {
     "data": {
      "text/plain": [
       "1028"
      ]
     },
     "execution_count": 47,
     "metadata": {},
     "output_type": "execute_result"
    }
   ],
   "source": [
    "series_for_product_market"
   ]
  },
  {
   "cell_type": "code",
   "execution_count": 48,
   "id": "71835fa3-7c2d-4ba0-9eb7-902a7b0390b8",
   "metadata": {},
   "outputs": [],
   "source": [
    "prediction = {\n",
    "    'point': final_predictions[series_for_product_market]['point'],\n",
    "    'lower': final_predictions[series_for_product_market]['lower'],\n",
    "    'upper': final_predictions[series_for_product_market]['upper']\n",
    "}"
   ]
  },
  {
   "cell_type": "code",
   "execution_count": 49,
   "id": "834251c7-ebf2-4ca3-bdff-bc028c394436",
   "metadata": {
    "tags": []
   },
   "outputs": [
    {
     "data": {
      "text/plain": [
       "{'point': 3473.723557425532,\n",
       " 'lower': 2242.040721722351,\n",
       " 'upper': 4705.406393128713}"
      ]
     },
     "execution_count": 49,
     "metadata": {},
     "output_type": "execute_result"
    }
   ],
   "source": [
    "prediction"
   ]
  },
  {
   "cell_type": "code",
   "execution_count": null,
   "id": "da4c461e-0bbc-4b7e-8038-ace585c52087",
   "metadata": {},
   "outputs": [],
   "source": []
  },
  {
   "cell_type": "markdown",
   "id": "50016558-2ec0-4f06-a841-39fc5c29761e",
   "metadata": {
    "tags": []
   },
   "source": [
    "### Save Model object with predictions and dicts as artifact"
   ]
  },
  {
   "cell_type": "code",
   "execution_count": 50,
   "id": "7aac0595-c55c-44b9-846d-cb4280ea36de",
   "metadata": {},
   "outputs": [],
   "source": [
    "routing_dicts = {\n",
    "    'series_to_id_dict': series_to_id_dict,\n",
    "    'id_to_market_dict': id_to_market_dict,\n",
    "    'product_to_series_dict': product_to_series_dict\n",
    "}"
   ]
  },
  {
   "cell_type": "code",
   "execution_count": null,
   "id": "843ce3b7-63a3-473b-bea2-b78e8a9681c9",
   "metadata": {},
   "outputs": [],
   "source": []
  },
  {
   "cell_type": "code",
   "execution_count": 51,
   "id": "654dc154-2c42-4985-bd96-5c913d952268",
   "metadata": {},
   "outputs": [],
   "source": [
    "from app.conf.mymodel import MyModel"
   ]
  },
  {
   "cell_type": "code",
   "execution_count": 52,
   "id": "e89cd24b-10e0-407b-afe6-d6a999332015",
   "metadata": {},
   "outputs": [],
   "source": [
    "model = MyModel(final_predictions, routing_dicts, forecast_date)"
   ]
  },
  {
   "cell_type": "code",
   "execution_count": 53,
   "id": "77100b94-66ce-40d9-904b-06670d24e6cc",
   "metadata": {},
   "outputs": [
    {
     "data": {
      "text/plain": [
       "{'arauca arauca': {'point': 3190.5051680537154,\n",
       "  'lower': 2613.9313699147824,\n",
       "  'upper': 3767.0789661926483},\n",
       " 'armenia mercar': {'point': 3302.6021235540147,\n",
       "  'lower': 2631.4892465720905,\n",
       "  'upper': 3973.715000535939},\n",
       " 'bogota dc corabastos': {'point': 3473.723557425532,\n",
       "  'lower': 2242.040721722351,\n",
       "  'upper': 4705.406393128713},\n",
       " 'bucaramanga centroabastos': {'point': 3375.145136345196,\n",
       "  'lower': 2586.763911210064,\n",
       "  'upper': 4163.526361480328},\n",
       " 'buenaventura valle del cauca': {'point': 3757.5284513980537,\n",
       "  'lower': 3093.1761604269614,\n",
       "  'upper': 4421.880742369146},\n",
       " 'cali cavasa': {'point': 2991.5618801012392,\n",
       "  'lower': 2246.211911698673,\n",
       "  'upper': 3736.9118485038057},\n",
       " 'cartago valle del cauca': {'point': 3471.6582921870627,\n",
       "  'lower': 2733.1954768859396,\n",
       "  'upper': 4210.121107488186},\n",
       " 'chiquinquira boyaca': {'point': 3061.7526281752375,\n",
       "  'lower': 1887.774522631735,\n",
       "  'upper': 4235.73073371874},\n",
       " 'cucuta cenabastos': {'point': 4007.318220114783,\n",
       "  'lower': 3270.81925302105,\n",
       "  'upper': 4743.817187208516},\n",
       " 'ibague plaza la 21': {'point': 2796.4578673794977,\n",
       "  'lower': 2111.6224699741306,\n",
       "  'upper': 3481.2932647848647},\n",
       " 'la ceja antioquia': {'point': 2806.735840113811,\n",
       "  'lower': 2239.7273860252108,\n",
       "  'upper': 3373.744294202411},\n",
       " 'manizales centro galerias': {'point': 3216.1662462498366,\n",
       "  'lower': 2504.280399827131,\n",
       "  'upper': 3928.052092672542},\n",
       " 'medellin plaza minorista jose maria villa': {'point': 2944.419396876094,\n",
       "  'lower': 2391.1521608587063,\n",
       "  'upper': 3497.686632893482},\n",
       " 'palmira valle del cauca': {'point': 3097.2517041205497,\n",
       "  'lower': 2343.454780482896,\n",
       "  'upper': 3851.0486277582036},\n",
       " 'pamplona norte de santander': {'point': 3613.8365980317017,\n",
       "  'lower': 2900.7840194539385,\n",
       "  'upper': 4326.889176609465},\n",
       " 'pasto el potrerillo': {'point': 3051.353163072238,\n",
       "  'lower': 2443.5903182390603,\n",
       "  'upper': 3659.116007905416},\n",
       " 'pereira la 41': {'point': 2955.3534414792844,\n",
       "  'lower': 2234.1163318214294,\n",
       "  'upper': 3676.5905511371393},\n",
       " 'pereira mercasa': {'point': 3613.720799619355,\n",
       "  'lower': 2868.3709381067374,\n",
       "  'upper': 4359.070661131973},\n",
       " 'popayan plaza de mercado del barrio bolivar': {'point': 3604.6609216560364,\n",
       "  'lower': 2815.098313562934,\n",
       "  'upper': 4394.223529749139},\n",
       " 'rionegro antioquia': {'point': 3234.7734882736668,\n",
       "  'lower': 2689.7512126835945,\n",
       "  'upper': 3779.795763863739},\n",
       " 'san gil santander': {'point': 3346.7180233862287,\n",
       "  'lower': 2523.512483138268,\n",
       "  'upper': 4169.923563634189},\n",
       " 'socorro santander': {'point': 2916.632372197444,\n",
       "  'lower': 2138.5895303325133,\n",
       "  'upper': 3694.675214062375},\n",
       " 'tulua valle del cauca': {'point': 3618.7425345454044,\n",
       "  'lower': 2763.5146369827908,\n",
       "  'upper': 4473.970432108018},\n",
       " 'tunja complejo de servicios del sur': {'point': 3037.14426108502,\n",
       "  'lower': 2156.148191959174,\n",
       "  'upper': 3918.140330210866},\n",
       " 'tuquerres narino': {'point': 3515.591607214209,\n",
       "  'lower': 3086.3772173454404,\n",
       "  'upper': 3944.8059970829777},\n",
       " 'villavicencio cav': {'point': 3276.013557960679,\n",
       "  'lower': 2161.5507354190663,\n",
       "  'upper': 4390.476380502292},\n",
       " 'yopal casanare': {'point': 2740.9741587840144,\n",
       "  'lower': 1844.130883369192,\n",
       "  'upper': 3637.817434198837}}"
      ]
     },
     "execution_count": 53,
     "metadata": {},
     "output_type": "execute_result"
    }
   ],
   "source": [
    "model.predict_product('maracuya')"
   ]
  },
  {
   "cell_type": "code",
   "execution_count": 54,
   "id": "60aa5382-9a47-4524-a1f2-0c07d2f644d0",
   "metadata": {},
   "outputs": [
    {
     "data": {
      "text/plain": [
       "{'point': 2944.419396876094,\n",
       " 'lower': 2391.1521608587063,\n",
       " 'upper': 3497.686632893482}"
      ]
     },
     "execution_count": 54,
     "metadata": {},
     "output_type": "execute_result"
    }
   ],
   "source": [
    "model.predict_product_market('maracuya','medellin plaza minorista jose maria villa')"
   ]
  },
  {
   "cell_type": "code",
   "execution_count": null,
   "id": "2feeac39-a9b8-4261-9578-d843ed376323",
   "metadata": {},
   "outputs": [],
   "source": []
  },
  {
   "cell_type": "code",
   "execution_count": 55,
   "id": "8accedbe-7107-4d8c-a054-12ecf2f8d847",
   "metadata": {},
   "outputs": [
    {
     "data": {
      "text/plain": [
       "{'model_name': 'Next-Month Colombian Fruit and Veg Prices Predictor',\n",
       " 'model_version': '1',\n",
       " 'forecast_date': '2023-01'}"
      ]
     },
     "execution_count": 55,
     "metadata": {},
     "output_type": "execute_result"
    }
   ],
   "source": [
    "model.get_model_info()"
   ]
  },
  {
   "cell_type": "code",
   "execution_count": null,
   "id": "a10fbf45-b6f3-45d1-b9d9-3755f206f535",
   "metadata": {},
   "outputs": [],
   "source": []
  },
  {
   "cell_type": "code",
   "execution_count": 56,
   "id": "4601631c-32a6-4069-88ed-c6211c482457",
   "metadata": {},
   "outputs": [],
   "source": [
    "uts.dump_artifact(model, 'model', sts.LOCAL_ARTIFACTS_PATH)"
   ]
  },
  {
   "cell_type": "code",
   "execution_count": null,
   "id": "ea641121-7f33-4473-a30b-e75a15f2e2d5",
   "metadata": {},
   "outputs": [],
   "source": []
  }
 ],
 "metadata": {
  "kernelspec": {
   "display_name": "Python 3 (ipykernel)",
   "language": "python",
   "name": "python3"
  },
  "language_info": {
   "codemirror_mode": {
    "name": "ipython",
    "version": 3
   },
   "file_extension": ".py",
   "mimetype": "text/x-python",
   "name": "python",
   "nbconvert_exporter": "python",
   "pygments_lexer": "ipython3",
   "version": "3.10.8"
  }
 },
 "nbformat": 4,
 "nbformat_minor": 5
}
