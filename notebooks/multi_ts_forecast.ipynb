{
 "cells": [
  {
   "cell_type": "markdown",
   "id": "a25bc38f-0854-4df3-be4e-df052adef889",
   "metadata": {},
   "source": [
    "# Multi-TS Forecast"
   ]
  },
  {
   "cell_type": "code",
   "execution_count": 1,
   "id": "b8bbdd0a-d614-40e5-a280-1c840188250d",
   "metadata": {},
   "outputs": [],
   "source": [
    "import os\n",
    "os.chdir(os.environ['PWD'])"
   ]
  },
  {
   "cell_type": "code",
   "execution_count": 2,
   "id": "16bd7203-7210-42be-a3d0-95f9397acf7d",
   "metadata": {},
   "outputs": [],
   "source": [
    "import pandas as pd\n",
    "import numpy as np\n",
    "import matplotlib.pyplot as plt\n",
    "import seaborn as sns\n",
    "sns.set_palette('colorblind')\n",
    "from conf import settings as sts\n",
    "from conf import utils as uts\n",
    "import re\n",
    "import string\n",
    "from statsmodels.tsa.deterministic import DeterministicProcess, CalendarFourier\n",
    "from statsmodels.tsa.seasonal import seasonal_decompose, STL\n",
    "from sklearn.linear_model import LinearRegression\n",
    "from sklearn.compose import ColumnTransformer\n",
    "from sklearn.preprocessing import OneHotEncoder\n",
    "from sklearn.neighbors import KNeighborsRegressor\n",
    "from tqdm import tqdm"
   ]
  },
  {
   "cell_type": "code",
   "execution_count": null,
   "id": "8bdf73b4-e02f-42df-83a5-52637dce96a0",
   "metadata": {},
   "outputs": [],
   "source": []
  },
  {
   "cell_type": "markdown",
   "id": "a05df94c-d8fa-4e4f-a62a-b86a05d94d7c",
   "metadata": {},
   "source": [
    "#### Import Historical Data"
   ]
  },
  {
   "cell_type": "code",
   "execution_count": 3,
   "id": "b7cf54d5-7795-4542-8dd5-62b359debd2f",
   "metadata": {},
   "outputs": [],
   "source": [
    "dataset_filtered = pd.read_csv(sts.LOCAL_DATA_PATH+\"final_prices_dataset_filtered.csv\")"
   ]
  },
  {
   "cell_type": "code",
   "execution_count": 4,
   "id": "851e3c07-b182-4a41-a9d8-96bcba712525",
   "metadata": {},
   "outputs": [
    {
     "data": {
      "text/html": [
       "<div>\n",
       "<style scoped>\n",
       "    .dataframe tbody tr th:only-of-type {\n",
       "        vertical-align: middle;\n",
       "    }\n",
       "\n",
       "    .dataframe tbody tr th {\n",
       "        vertical-align: top;\n",
       "    }\n",
       "\n",
       "    .dataframe thead th {\n",
       "        text-align: right;\n",
       "    }\n",
       "</style>\n",
       "<table border=\"1\" class=\"dataframe\">\n",
       "  <thead>\n",
       "    <tr style=\"text-align: right;\">\n",
       "      <th></th>\n",
       "      <th>date</th>\n",
       "      <th>group</th>\n",
       "      <th>product</th>\n",
       "      <th>market</th>\n",
       "      <th>mean_price</th>\n",
       "    </tr>\n",
       "  </thead>\n",
       "  <tbody>\n",
       "    <tr>\n",
       "      <th>0</th>\n",
       "      <td>2013-01-01</td>\n",
       "      <td>verduras y hortalizas</td>\n",
       "      <td>pepino cohombro</td>\n",
       "      <td>cucuta cenabastos</td>\n",
       "      <td>790.0</td>\n",
       "    </tr>\n",
       "    <tr>\n",
       "      <th>1</th>\n",
       "      <td>2013-02-01</td>\n",
       "      <td>verduras y hortalizas</td>\n",
       "      <td>pepino cohombro</td>\n",
       "      <td>cucuta cenabastos</td>\n",
       "      <td>638.0</td>\n",
       "    </tr>\n",
       "    <tr>\n",
       "      <th>2</th>\n",
       "      <td>2013-03-01</td>\n",
       "      <td>verduras y hortalizas</td>\n",
       "      <td>pepino cohombro</td>\n",
       "      <td>cucuta cenabastos</td>\n",
       "      <td>705.0</td>\n",
       "    </tr>\n",
       "    <tr>\n",
       "      <th>3</th>\n",
       "      <td>2013-04-01</td>\n",
       "      <td>verduras y hortalizas</td>\n",
       "      <td>pepino cohombro</td>\n",
       "      <td>cucuta cenabastos</td>\n",
       "      <td>518.0</td>\n",
       "    </tr>\n",
       "    <tr>\n",
       "      <th>4</th>\n",
       "      <td>2013-05-01</td>\n",
       "      <td>verduras y hortalizas</td>\n",
       "      <td>pepino cohombro</td>\n",
       "      <td>cucuta cenabastos</td>\n",
       "      <td>550.0</td>\n",
       "    </tr>\n",
       "    <tr>\n",
       "      <th>...</th>\n",
       "      <td>...</td>\n",
       "      <td>...</td>\n",
       "      <td>...</td>\n",
       "      <td>...</td>\n",
       "      <td>...</td>\n",
       "    </tr>\n",
       "    <tr>\n",
       "      <th>406023</th>\n",
       "      <td>2022-07-01</td>\n",
       "      <td>frutas</td>\n",
       "      <td>limon mandarino</td>\n",
       "      <td>armenia retiro</td>\n",
       "      <td>1800.0</td>\n",
       "    </tr>\n",
       "    <tr>\n",
       "      <th>406024</th>\n",
       "      <td>2022-08-01</td>\n",
       "      <td>frutas</td>\n",
       "      <td>limon mandarino</td>\n",
       "      <td>armenia retiro</td>\n",
       "      <td>1887.0</td>\n",
       "    </tr>\n",
       "    <tr>\n",
       "      <th>406025</th>\n",
       "      <td>2022-09-01</td>\n",
       "      <td>frutas</td>\n",
       "      <td>limon mandarino</td>\n",
       "      <td>armenia retiro</td>\n",
       "      <td>2654.0</td>\n",
       "    </tr>\n",
       "    <tr>\n",
       "      <th>406026</th>\n",
       "      <td>2022-10-01</td>\n",
       "      <td>frutas</td>\n",
       "      <td>limon mandarino</td>\n",
       "      <td>armenia retiro</td>\n",
       "      <td>2303.0</td>\n",
       "    </tr>\n",
       "    <tr>\n",
       "      <th>406027</th>\n",
       "      <td>2022-11-01</td>\n",
       "      <td>frutas</td>\n",
       "      <td>limon mandarino</td>\n",
       "      <td>armenia retiro</td>\n",
       "      <td>2400.0</td>\n",
       "    </tr>\n",
       "  </tbody>\n",
       "</table>\n",
       "<p>406028 rows × 5 columns</p>\n",
       "</div>"
      ],
      "text/plain": [
       "              date                  group          product             market  \\\n",
       "0       2013-01-01  verduras y hortalizas  pepino cohombro  cucuta cenabastos   \n",
       "1       2013-02-01  verduras y hortalizas  pepino cohombro  cucuta cenabastos   \n",
       "2       2013-03-01  verduras y hortalizas  pepino cohombro  cucuta cenabastos   \n",
       "3       2013-04-01  verduras y hortalizas  pepino cohombro  cucuta cenabastos   \n",
       "4       2013-05-01  verduras y hortalizas  pepino cohombro  cucuta cenabastos   \n",
       "...            ...                    ...              ...                ...   \n",
       "406023  2022-07-01                 frutas  limon mandarino     armenia retiro   \n",
       "406024  2022-08-01                 frutas  limon mandarino     armenia retiro   \n",
       "406025  2022-09-01                 frutas  limon mandarino     armenia retiro   \n",
       "406026  2022-10-01                 frutas  limon mandarino     armenia retiro   \n",
       "406027  2022-11-01                 frutas  limon mandarino     armenia retiro   \n",
       "\n",
       "        mean_price  \n",
       "0            790.0  \n",
       "1            638.0  \n",
       "2            705.0  \n",
       "3            518.0  \n",
       "4            550.0  \n",
       "...            ...  \n",
       "406023      1800.0  \n",
       "406024      1887.0  \n",
       "406025      2654.0  \n",
       "406026      2303.0  \n",
       "406027      2400.0  \n",
       "\n",
       "[406028 rows x 5 columns]"
      ]
     },
     "execution_count": 4,
     "metadata": {},
     "output_type": "execute_result"
    }
   ],
   "source": [
    "dataset_filtered"
   ]
  },
  {
   "cell_type": "code",
   "execution_count": 5,
   "id": "1fc56a4a-8079-49e1-bdf2-c255d43b0562",
   "metadata": {},
   "outputs": [],
   "source": [
    "dataset_filtered['date'] = pd.to_datetime(dataset_filtered['date'])"
   ]
  },
  {
   "cell_type": "code",
   "execution_count": null,
   "id": "8ef4b206-0847-459a-83b1-9a3999be0621",
   "metadata": {},
   "outputs": [],
   "source": []
  },
  {
   "cell_type": "markdown",
   "id": "7715bcbf-fb11-4bda-bfde-616c8062f1f6",
   "metadata": {
    "tags": []
   },
   "source": [
    "## Time Series Forecasting"
   ]
  },
  {
   "cell_type": "code",
   "execution_count": 6,
   "id": "6d2d2ed0-c4e1-4a33-ac81-ffa4773c40ea",
   "metadata": {},
   "outputs": [],
   "source": [
    "date_range = pd.date_range(\n",
    "    start = dataset_filtered['date'].min(), \n",
    "    end = dataset_filtered['date'].max(), \n",
    "    freq = 'MS'\n",
    ")"
   ]
  },
  {
   "cell_type": "code",
   "execution_count": 7,
   "id": "9be11c12-9cd5-4a3f-b8e9-d91a03349329",
   "metadata": {},
   "outputs": [
    {
     "data": {
      "text/plain": [
       "3412.0"
      ]
     },
     "execution_count": 7,
     "metadata": {},
     "output_type": "execute_result"
    }
   ],
   "source": [
    "dataset_filtered.shape[0] / date_range.shape[0]"
   ]
  },
  {
   "cell_type": "code",
   "execution_count": 8,
   "id": "43be5f8a-77c2-458b-b7e2-06e42042bdec",
   "metadata": {},
   "outputs": [
    {
     "data": {
      "text/plain": [
       "(8, 319, 72)"
      ]
     },
     "execution_count": 8,
     "metadata": {},
     "output_type": "execute_result"
    }
   ],
   "source": [
    "dataset_filtered['group'].nunique(), dataset_filtered['product'].nunique(), dataset_filtered['market'].nunique()"
   ]
  },
  {
   "cell_type": "code",
   "execution_count": 9,
   "id": "26594b21-cda7-485d-b310-b64dd3296637",
   "metadata": {},
   "outputs": [],
   "source": [
    "dataset_filtered['series_id'] = dataset_filtered.groupby(['group', 'product', 'market']).ngroup()"
   ]
  },
  {
   "cell_type": "code",
   "execution_count": null,
   "id": "7895da2c-c27a-4e51-b580-2f7d201fe117",
   "metadata": {},
   "outputs": [],
   "source": []
  },
  {
   "cell_type": "code",
   "execution_count": 10,
   "id": "db6e4a17-1707-41b9-8346-8aa84781609f",
   "metadata": {},
   "outputs": [],
   "source": [
    "get_date_range = lambda start: pd.date_range(start = start, end = dataset_filtered['date'].max(), freq = 'MS')"
   ]
  },
  {
   "cell_type": "code",
   "execution_count": 30,
   "id": "af346fa1-65c8-4826-af10-3befebd3ebab",
   "metadata": {},
   "outputs": [],
   "source": [
    "dataset_filtered_f = dataset_filtered[dataset_filtered.series_id < 100]"
   ]
  },
  {
   "cell_type": "code",
   "execution_count": 104,
   "id": "9745dd40-326c-49b3-b0a2-ac8d05f4e224",
   "metadata": {},
   "outputs": [],
   "source": [
    "multi_X_2 = []\n",
    "multi_X_fore_2 = []\n",
    "multi_y_2 = []\n",
    "series_id_series = []\n",
    "\n",
    "multi_y_pred_1 = []"
   ]
  },
  {
   "cell_type": "code",
   "execution_count": 105,
   "id": "61d3e6bc-72df-4fe7-a80c-8668f9b3b948",
   "metadata": {},
   "outputs": [],
   "source": [
    "predictions = {}"
   ]
  },
  {
   "cell_type": "code",
   "execution_count": 106,
   "id": "1f4277fe-e2cd-43fc-8bb0-e0d3f39d4db0",
   "metadata": {
    "tags": []
   },
   "outputs": [
    {
     "name": "stderr",
     "output_type": "stream",
     "text": [
      "100%|███████████████████████████████████████████████████████████████████████████████████████████████████████████████████████████| 100/100 [00:01<00:00, 93.28it/s]\n"
     ]
    }
   ],
   "source": [
    "for series_id, series_df in tqdm(dataset_filtered_f.groupby('series_id')):\n",
    "    series_df.set_index('date', inplace=True)\n",
    "    group = series_df['group'].unique()[0]\n",
    "    y = series_df['mean_price']\n",
    "    date_range_idx = get_date_range(y.first_valid_index())\n",
    "    y = y.reindex(date_range_idx).interpolate()\n",
    "    \n",
    "    X_1, X_fore_1 = uts.get_X_det(y, forecast_steps = 1)\n",
    "    model_1, y_pred_1, residuals = uts.get_model(y, X_1, LinearRegression(), return_residuals = True)\n",
    "    \n",
    "    pred = {\n",
    "        'index':X_fore_1.index[0],\n",
    "        'point_det':model_1.predict(X_fore_1)[0]\n",
    "    }\n",
    "    predictions[series_id] = pred\n",
    "    \n",
    "    y_2, X_fore_2, X_2 = uts.get_X_res(residuals, 3)\n",
    "    X_2['group'] = group\n",
    "    X_fore_2['group'] = group\n",
    "    \n",
    "    y_pred_frame_1 = y_pred_1.iloc[3:].to_frame()\n",
    "    y_pred_frame_1['series_id'] = series_id\n",
    "    y_pred_frame_1['y_true'] = y.iloc[3:]\n",
    "    \n",
    "    multi_y_pred_1.append(y_pred_frame_1)\n",
    "    multi_X_2.append(X_2)\n",
    "    multi_X_fore_2.append(X_fore_2)\n",
    "    multi_y_2.append(y_2)"
   ]
  },
  {
   "cell_type": "code",
   "execution_count": 107,
   "id": "60ffe392-3f08-4f74-a8df-4f9dd23e9de7",
   "metadata": {
    "tags": []
   },
   "outputs": [],
   "source": [
    "multi_X_2 = pd.concat(multi_X_2)\n",
    "multi_X_fore_2 = pd.concat(multi_X_fore_2)\n",
    "multi_y_2 = pd.concat(multi_y_2)\n",
    "\n",
    "multi_y_pred_1 = pd.concat(multi_y_pred_1)"
   ]
  },
  {
   "cell_type": "code",
   "execution_count": 108,
   "id": "ab610192-3a0d-4c82-ae03-0019688f688c",
   "metadata": {},
   "outputs": [
    {
     "data": {
      "text/plain": [
       "{'index': Timestamp('2022-12-01 00:00:00', freq='MS'),\n",
       " 'point_det': 11930.812924899705}"
      ]
     },
     "execution_count": 108,
     "metadata": {},
     "output_type": "execute_result"
    }
   ],
   "source": [
    "predictions[0]"
   ]
  },
  {
   "cell_type": "code",
   "execution_count": 109,
   "id": "a8b9086d-4bc4-42fa-8786-785d27db96b1",
   "metadata": {},
   "outputs": [],
   "source": [
    "feature_pipeline = ColumnTransformer(\n",
    "    transformers=[\n",
    "        ('group_onehot', OneHotEncoder(handle_unknown='ignore'), ['group']),\n",
    "        ('numeric', 'passthrough', ['y_lag_1', 'y_lag_2', 'y_lag_3', 'y_rolling_std'])\n",
    "    ],\n",
    ")"
   ]
  },
  {
   "cell_type": "code",
   "execution_count": 110,
   "id": "938e4352-51d6-4754-aa44-996bf114dd0e",
   "metadata": {},
   "outputs": [
    {
     "data": {
      "text/html": [
       "<style>#sk-container-id-6 {color: black;background-color: white;}#sk-container-id-6 pre{padding: 0;}#sk-container-id-6 div.sk-toggleable {background-color: white;}#sk-container-id-6 label.sk-toggleable__label {cursor: pointer;display: block;width: 100%;margin-bottom: 0;padding: 0.3em;box-sizing: border-box;text-align: center;}#sk-container-id-6 label.sk-toggleable__label-arrow:before {content: \"▸\";float: left;margin-right: 0.25em;color: #696969;}#sk-container-id-6 label.sk-toggleable__label-arrow:hover:before {color: black;}#sk-container-id-6 div.sk-estimator:hover label.sk-toggleable__label-arrow:before {color: black;}#sk-container-id-6 div.sk-toggleable__content {max-height: 0;max-width: 0;overflow: hidden;text-align: left;background-color: #f0f8ff;}#sk-container-id-6 div.sk-toggleable__content pre {margin: 0.2em;color: black;border-radius: 0.25em;background-color: #f0f8ff;}#sk-container-id-6 input.sk-toggleable__control:checked~div.sk-toggleable__content {max-height: 200px;max-width: 100%;overflow: auto;}#sk-container-id-6 input.sk-toggleable__control:checked~label.sk-toggleable__label-arrow:before {content: \"▾\";}#sk-container-id-6 div.sk-estimator input.sk-toggleable__control:checked~label.sk-toggleable__label {background-color: #d4ebff;}#sk-container-id-6 div.sk-label input.sk-toggleable__control:checked~label.sk-toggleable__label {background-color: #d4ebff;}#sk-container-id-6 input.sk-hidden--visually {border: 0;clip: rect(1px 1px 1px 1px);clip: rect(1px, 1px, 1px, 1px);height: 1px;margin: -1px;overflow: hidden;padding: 0;position: absolute;width: 1px;}#sk-container-id-6 div.sk-estimator {font-family: monospace;background-color: #f0f8ff;border: 1px dotted black;border-radius: 0.25em;box-sizing: border-box;margin-bottom: 0.5em;}#sk-container-id-6 div.sk-estimator:hover {background-color: #d4ebff;}#sk-container-id-6 div.sk-parallel-item::after {content: \"\";width: 100%;border-bottom: 1px solid gray;flex-grow: 1;}#sk-container-id-6 div.sk-label:hover label.sk-toggleable__label {background-color: #d4ebff;}#sk-container-id-6 div.sk-serial::before {content: \"\";position: absolute;border-left: 1px solid gray;box-sizing: border-box;top: 0;bottom: 0;left: 50%;z-index: 0;}#sk-container-id-6 div.sk-serial {display: flex;flex-direction: column;align-items: center;background-color: white;padding-right: 0.2em;padding-left: 0.2em;position: relative;}#sk-container-id-6 div.sk-item {position: relative;z-index: 1;}#sk-container-id-6 div.sk-parallel {display: flex;align-items: stretch;justify-content: center;background-color: white;position: relative;}#sk-container-id-6 div.sk-item::before, #sk-container-id-6 div.sk-parallel-item::before {content: \"\";position: absolute;border-left: 1px solid gray;box-sizing: border-box;top: 0;bottom: 0;left: 50%;z-index: -1;}#sk-container-id-6 div.sk-parallel-item {display: flex;flex-direction: column;z-index: 1;position: relative;background-color: white;}#sk-container-id-6 div.sk-parallel-item:first-child::after {align-self: flex-end;width: 50%;}#sk-container-id-6 div.sk-parallel-item:last-child::after {align-self: flex-start;width: 50%;}#sk-container-id-6 div.sk-parallel-item:only-child::after {width: 0;}#sk-container-id-6 div.sk-dashed-wrapped {border: 1px dashed gray;margin: 0 0.4em 0.5em 0.4em;box-sizing: border-box;padding-bottom: 0.4em;background-color: white;}#sk-container-id-6 div.sk-label label {font-family: monospace;font-weight: bold;display: inline-block;line-height: 1.2em;}#sk-container-id-6 div.sk-label-container {text-align: center;}#sk-container-id-6 div.sk-container {/* jupyter's `normalize.less` sets `[hidden] { display: none; }` but bootstrap.min.css set `[hidden] { display: none !important; }` so we also need the `!important` here to be able to override the default hidden behavior on the sphinx rendered scikit-learn.org. See: https://github.com/scikit-learn/scikit-learn/issues/21755 */display: inline-block !important;position: relative;}#sk-container-id-6 div.sk-text-repr-fallback {display: none;}</style><div id=\"sk-container-id-6\" class=\"sk-top-container\"><div class=\"sk-text-repr-fallback\"><pre>ColumnTransformer(transformers=[(&#x27;group_onehot&#x27;,\n",
       "                                 OneHotEncoder(handle_unknown=&#x27;ignore&#x27;),\n",
       "                                 [&#x27;group&#x27;]),\n",
       "                                (&#x27;numeric&#x27;, &#x27;passthrough&#x27;,\n",
       "                                 [&#x27;y_lag_1&#x27;, &#x27;y_lag_2&#x27;, &#x27;y_lag_3&#x27;,\n",
       "                                  &#x27;y_rolling_std&#x27;])])</pre><b>In a Jupyter environment, please rerun this cell to show the HTML representation or trust the notebook. <br />On GitHub, the HTML representation is unable to render, please try loading this page with nbviewer.org.</b></div><div class=\"sk-container\" hidden><div class=\"sk-item sk-dashed-wrapped\"><div class=\"sk-label-container\"><div class=\"sk-label sk-toggleable\"><input class=\"sk-toggleable__control sk-hidden--visually\" id=\"sk-estimator-id-26\" type=\"checkbox\" ><label for=\"sk-estimator-id-26\" class=\"sk-toggleable__label sk-toggleable__label-arrow\">ColumnTransformer</label><div class=\"sk-toggleable__content\"><pre>ColumnTransformer(transformers=[(&#x27;group_onehot&#x27;,\n",
       "                                 OneHotEncoder(handle_unknown=&#x27;ignore&#x27;),\n",
       "                                 [&#x27;group&#x27;]),\n",
       "                                (&#x27;numeric&#x27;, &#x27;passthrough&#x27;,\n",
       "                                 [&#x27;y_lag_1&#x27;, &#x27;y_lag_2&#x27;, &#x27;y_lag_3&#x27;,\n",
       "                                  &#x27;y_rolling_std&#x27;])])</pre></div></div></div><div class=\"sk-parallel\"><div class=\"sk-parallel-item\"><div class=\"sk-item\"><div class=\"sk-label-container\"><div class=\"sk-label sk-toggleable\"><input class=\"sk-toggleable__control sk-hidden--visually\" id=\"sk-estimator-id-27\" type=\"checkbox\" ><label for=\"sk-estimator-id-27\" class=\"sk-toggleable__label sk-toggleable__label-arrow\">group_onehot</label><div class=\"sk-toggleable__content\"><pre>[&#x27;group&#x27;]</pre></div></div></div><div class=\"sk-serial\"><div class=\"sk-item\"><div class=\"sk-estimator sk-toggleable\"><input class=\"sk-toggleable__control sk-hidden--visually\" id=\"sk-estimator-id-28\" type=\"checkbox\" ><label for=\"sk-estimator-id-28\" class=\"sk-toggleable__label sk-toggleable__label-arrow\">OneHotEncoder</label><div class=\"sk-toggleable__content\"><pre>OneHotEncoder(handle_unknown=&#x27;ignore&#x27;)</pre></div></div></div></div></div></div><div class=\"sk-parallel-item\"><div class=\"sk-item\"><div class=\"sk-label-container\"><div class=\"sk-label sk-toggleable\"><input class=\"sk-toggleable__control sk-hidden--visually\" id=\"sk-estimator-id-29\" type=\"checkbox\" ><label for=\"sk-estimator-id-29\" class=\"sk-toggleable__label sk-toggleable__label-arrow\">numeric</label><div class=\"sk-toggleable__content\"><pre>[&#x27;y_lag_1&#x27;, &#x27;y_lag_2&#x27;, &#x27;y_lag_3&#x27;, &#x27;y_rolling_std&#x27;]</pre></div></div></div><div class=\"sk-serial\"><div class=\"sk-item\"><div class=\"sk-estimator sk-toggleable\"><input class=\"sk-toggleable__control sk-hidden--visually\" id=\"sk-estimator-id-30\" type=\"checkbox\" ><label for=\"sk-estimator-id-30\" class=\"sk-toggleable__label sk-toggleable__label-arrow\">passthrough</label><div class=\"sk-toggleable__content\"><pre>passthrough</pre></div></div></div></div></div></div></div></div></div></div>"
      ],
      "text/plain": [
       "ColumnTransformer(transformers=[('group_onehot',\n",
       "                                 OneHotEncoder(handle_unknown='ignore'),\n",
       "                                 ['group']),\n",
       "                                ('numeric', 'passthrough',\n",
       "                                 ['y_lag_1', 'y_lag_2', 'y_lag_3',\n",
       "                                  'y_rolling_std'])])"
      ]
     },
     "execution_count": 110,
     "metadata": {},
     "output_type": "execute_result"
    }
   ],
   "source": [
    "feature_pipeline.fit(multi_X_2)"
   ]
  },
  {
   "cell_type": "code",
   "execution_count": 111,
   "id": "fa5f5c74-47ac-4694-803d-9b83fcd9a30f",
   "metadata": {},
   "outputs": [],
   "source": [
    "trans_multi_X_2 = feature_pipeline.transform(multi_X_2)"
   ]
  },
  {
   "cell_type": "code",
   "execution_count": 112,
   "id": "00d67c54-f5be-454d-9f1d-c499158ca0c2",
   "metadata": {},
   "outputs": [],
   "source": [
    "model_2, multi_y_pred_2 = uts.get_model(multi_y_2, trans_multi_X_2, KNeighborsRegressor(), return_residuals=False)"
   ]
  },
  {
   "cell_type": "code",
   "execution_count": 113,
   "id": "2c7d7772-ecb8-4b19-8c38-da343cbe2d4c",
   "metadata": {},
   "outputs": [
    {
     "data": {
      "text/plain": [
       "(11015, 3)"
      ]
     },
     "execution_count": 113,
     "metadata": {},
     "output_type": "execute_result"
    }
   ],
   "source": [
    "multi_y_pred_1.shape"
   ]
  },
  {
   "cell_type": "code",
   "execution_count": 114,
   "id": "f17a7160-8158-4dd9-a71f-636eb49da75b",
   "metadata": {},
   "outputs": [
    {
     "data": {
      "text/plain": [
       "(11015,)"
      ]
     },
     "execution_count": 114,
     "metadata": {},
     "output_type": "execute_result"
    }
   ],
   "source": [
    "multi_y_pred_2.shape"
   ]
  },
  {
   "cell_type": "code",
   "execution_count": 117,
   "id": "809aa624-1b2a-4743-88a8-f110ce02802c",
   "metadata": {},
   "outputs": [],
   "source": [
    "multi_y_pred_1['y_pred'] = multi_y_pred_2 + multi_y_pred_1[0]"
   ]
  },
  {
   "cell_type": "code",
   "execution_count": 119,
   "id": "0af3e7b2-29d7-46c2-896c-4fb93ce3e401",
   "metadata": {},
   "outputs": [],
   "source": [
    "multi_y_pred_1['residuals'] = multi_y_pred_1['y_true'] - multi_y_pred_1['y_pred']"
   ]
  },
  {
   "cell_type": "code",
   "execution_count": 124,
   "id": "17f67893-bf86-48b3-93ed-dae33337743d",
   "metadata": {},
   "outputs": [],
   "source": [
    "std_preds = multi_y_pred_1.groupby(['series_id'])['residuals'].std().to_dict()"
   ]
  },
  {
   "cell_type": "code",
   "execution_count": 132,
   "id": "6a08c243-031c-4ac1-9e7b-3b8d4169b8c6",
   "metadata": {},
   "outputs": [],
   "source": [
    "point_res = pd.Series(model_2.predict(feature_pipeline.transform(multi_X_fore_2)), index = np.arange(multi_X_fore_2.shape[0])).to_dict()"
   ]
  },
  {
   "cell_type": "code",
   "execution_count": 151,
   "id": "3de7879b-1bcb-40a7-bfe7-9e7614b1afdf",
   "metadata": {},
   "outputs": [],
   "source": [
    "final_predictions = {\n",
    "    series_id:{\n",
    "        'point_res': point_res[series_id],\n",
    "        **predictions[series_id],\n",
    "        'std': std_preds[series_id],\n",
    "        'point': predictions[series_id]['point_det'] + point_res[series_id],\n",
    "        'lower': predictions[series_id]['point_det'] + point_res[series_id] - std_preds[series_id],\n",
    "        'upper': predictions[series_id]['point_det'] + point_res[series_id] + std_preds[series_id]\n",
    "    }\n",
    "    for series_id in np.arange(10)\n",
    "}"
   ]
  },
  {
   "cell_type": "code",
   "execution_count": 153,
   "id": "bd10907c-55ad-4f20-bef2-b611888f4781",
   "metadata": {},
   "outputs": [
    {
     "data": {
      "text/plain": [
       "{'point_res': 817.2002369559035,\n",
       " 'index': Timestamp('2022-12-01 00:00:00', freq='MS'),\n",
       " 'point_det': 11930.812924899705,\n",
       " 'std': 303.02936604463724,\n",
       " 'point': 12748.013161855608,\n",
       " 'lower': 12444.983795810971,\n",
       " 'upper': 13051.042527900245}"
      ]
     },
     "execution_count": 153,
     "metadata": {},
     "output_type": "execute_result"
    }
   ],
   "source": [
    "final_predictions[0]"
   ]
  },
  {
   "cell_type": "code",
   "execution_count": 155,
   "id": "af660db7-bfdd-40ef-9302-a7506a9136eb",
   "metadata": {},
   "outputs": [],
   "source": [
    "series_df = dataset_filtered_f[dataset_filtered_f.series_id==0]\n",
    "series_df.set_index('date', inplace=True)\n",
    "group = series_df['group'].unique()[0]\n",
    "y = series_df['mean_price']\n",
    "date_range_idx = get_date_range(y.first_valid_index())\n",
    "y = y.reindex(date_range_idx).interpolate()"
   ]
  },
  {
   "cell_type": "code",
   "execution_count": 169,
   "id": "e2337d48-7976-4bf4-817a-bdd0e69c1bc0",
   "metadata": {},
   "outputs": [
    {
     "data": {
      "image/png": "[encoded data removed]",
      "text/plain": [
       "<Figure size 640x480 with 1 Axes>"
      ]
     },
     "metadata": {},
     "output_type": "display_data"
    }
   ],
   "source": [
    "plt.plot(y)\n",
    "plt.scatter(x = final_predictions[0]['index'], y = final_predictions[0]['point'])\n",
    "plt.scatter(x = final_predictions[0]['index'], y = final_predictions[0]['lower'])\n",
    "plt.scatter(x = final_predictions[0]['index'], y = final_predictions[0]['upper'])\n",
    "plt.show()"
   ]
  },
  {
   "cell_type": "code",
   "execution_count": 166,
   "id": "3945b7e5-6750-4afe-a7aa-8c9ce82e1392",
   "metadata": {},
   "outputs": [
    {
     "data": {
      "text/plain": [
       "Timestamp('2022-12-01 00:00:00', freq='MS')"
      ]
     },
     "execution_count": 166,
     "metadata": {},
     "output_type": "execute_result"
    }
   ],
   "source": [
    "final_predictions[0]['index']"
   ]
  },
  {
   "cell_type": "code",
   "execution_count": 167,
   "id": "6fb5a11e-99b7-4b39-bc8b-c576329d7a27",
   "metadata": {},
   "outputs": [
    {
     "data": {
      "text/plain": [
       "2015-01-01     3800.0\n",
       "2015-02-01     3800.0\n",
       "2015-03-01     3850.0\n",
       "2015-04-01     3900.0\n",
       "2015-05-01     3900.0\n",
       "               ...   \n",
       "2022-07-01    11667.0\n",
       "2022-08-01    11667.0\n",
       "2022-09-01    11900.0\n",
       "2022-10-01    12133.0\n",
       "2022-11-01    13387.0\n",
       "Freq: MS, Name: mean_price, Length: 95, dtype: float64"
      ]
     },
     "execution_count": 167,
     "metadata": {},
     "output_type": "execute_result"
    }
   ],
   "source": [
    "y"
   ]
  },
  {
   "cell_type": "code",
   "execution_count": null,
   "id": "ca353e4f-7c7e-4e2b-bb33-07d19ed43646",
   "metadata": {},
   "outputs": [],
   "source": []
  }
 ],
 "metadata": {
  "kernelspec": {
   "display_name": "Python 3 (ipykernel)",
   "language": "python",
   "name": "python3"
  },
  "language_info": {
   "codemirror_mode": {
    "name": "ipython",
    "version": 3
   },
   "file_extension": ".py",
   "mimetype": "text/x-python",
   "name": "python",
   "nbconvert_exporter": "python",
   "pygments_lexer": "ipython3",
   "version": "3.10.8"
  }
 },
 "nbformat": 4,
 "nbformat_minor": 5
}
