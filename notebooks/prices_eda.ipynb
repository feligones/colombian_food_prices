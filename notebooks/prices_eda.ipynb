{
 "cells": [
  {
   "cell_type": "markdown",
   "id": "e86315a3-f665-4402-b4fa-a888a11c4524",
   "metadata": {},
   "source": [
    "## Historical Price Data EDA"
   ]
  },
  {
   "cell_type": "code",
   "execution_count": 1,
   "id": "daf8cc9e-efaf-4331-8769-afae2bf1cbca",
   "metadata": {},
   "outputs": [],
   "source": [
    "import os\n",
    "os.chdir(os.environ['PWD'])"
   ]
  },
  {
   "cell_type": "code",
   "execution_count": 42,
   "id": "7679edd5-e462-499b-8c59-82a8e959d93f",
   "metadata": {},
   "outputs": [
    {
     "name": "stderr",
     "output_type": "stream",
     "text": [
      "[nltk_data] Downloading package punkt to\n",
      "[nltk_data]     /Users/felipegonzalez/nltk_data...\n",
      "[nltk_data]   Package punkt is already up-to-date!\n"
     ]
    }
   ],
   "source": [
    "import pandas as pd\n",
    "import numpy as np\n",
    "import matplotlib.pyplot as plt\n",
    "import seaborn as sns\n",
    "sns.set_palette('colorblind')\n",
    "from conf import settings as sts\n",
    "from conf import utils as uts\n",
    "from unidecode import unidecode\n",
    "import nltk\n",
    "nltk.download('punkt')\n",
    "from nltk.tokenize import word_tokenize\n",
    "import re\n",
    "import string\n",
    "from statsmodels.tsa.deterministic import DeterministicProcess, CalendarFourier\n",
    "from statsmodels.tsa.seasonal import seasonal_decompose, STL\n",
    "from sklearn.linear_model import LinearRegression"
   ]
  },
  {
   "cell_type": "code",
   "execution_count": null,
   "id": "58dd8a96-e9d1-423c-9e64-3603e1675ab6",
   "metadata": {},
   "outputs": [],
   "source": []
  },
  {
   "cell_type": "markdown",
   "id": "61346489-37fb-4659-b8a1-851c4b76fb33",
   "metadata": {},
   "source": [
    "#### Import Historical Data"
   ]
  },
  {
   "cell_type": "code",
   "execution_count": 3,
   "id": "93c70496-0b26-4b78-8f6a-31839829c837",
   "metadata": {},
   "outputs": [],
   "source": [
    "dataset = pd.read_csv(sts.LOCAL_DATA_PATH+sts.FINAL_PRICE_DATASET)"
   ]
  },
  {
   "cell_type": "code",
   "execution_count": 4,
   "id": "ec4eba72-bacb-4bc4-a129-9228b91ef362",
   "metadata": {},
   "outputs": [
    {
     "data": {
      "text/plain": [
       "(554550, 5)"
      ]
     },
     "execution_count": 4,
     "metadata": {},
     "output_type": "execute_result"
    }
   ],
   "source": [
    "dataset.shape"
   ]
  },
  {
   "cell_type": "code",
   "execution_count": 5,
   "id": "fbd2f2f2-18d8-495f-825d-4a41abb32c46",
   "metadata": {},
   "outputs": [
    {
     "data": {
      "text/html": [
       "<div>\n",
       "<style scoped>\n",
       "    .dataframe tbody tr th:only-of-type {\n",
       "        vertical-align: middle;\n",
       "    }\n",
       "\n",
       "    .dataframe tbody tr th {\n",
       "        vertical-align: top;\n",
       "    }\n",
       "\n",
       "    .dataframe thead th {\n",
       "        text-align: right;\n",
       "    }\n",
       "</style>\n",
       "<table border=\"1\" class=\"dataframe\">\n",
       "  <thead>\n",
       "    <tr style=\"text-align: right;\">\n",
       "      <th></th>\n",
       "      <th>date</th>\n",
       "      <th>group</th>\n",
       "      <th>product</th>\n",
       "      <th>market</th>\n",
       "      <th>mean_price</th>\n",
       "    </tr>\n",
       "  </thead>\n",
       "  <tbody>\n",
       "    <tr>\n",
       "      <th>0</th>\n",
       "      <td>2013-01-01</td>\n",
       "      <td>VERDURAS Y HORTALIZAS</td>\n",
       "      <td>Pepino cohombro</td>\n",
       "      <td>Cúcuta, Cenabastos</td>\n",
       "      <td>790.0</td>\n",
       "    </tr>\n",
       "    <tr>\n",
       "      <th>1</th>\n",
       "      <td>2013-01-01</td>\n",
       "      <td>PROCESADOS</td>\n",
       "      <td>Galletas dulces redondas con crema</td>\n",
       "      <td>Bucaramanga, Centroabastos</td>\n",
       "      <td>9281.0</td>\n",
       "    </tr>\n",
       "    <tr>\n",
       "      <th>2</th>\n",
       "      <td>2013-01-01</td>\n",
       "      <td>PROCESADOS</td>\n",
       "      <td>Galletas dulces redondas con crema</td>\n",
       "      <td>Bucaramanga, Mercados del centro</td>\n",
       "      <td>9446.0</td>\n",
       "    </tr>\n",
       "    <tr>\n",
       "      <th>3</th>\n",
       "      <td>2013-01-01</td>\n",
       "      <td>PROCESADOS</td>\n",
       "      <td>Galletas dulces redondas con crema</td>\n",
       "      <td>Cartagena, Bazurto</td>\n",
       "      <td>8591.0</td>\n",
       "    </tr>\n",
       "    <tr>\n",
       "      <th>4</th>\n",
       "      <td>2013-01-01</td>\n",
       "      <td>PROCESADOS</td>\n",
       "      <td>Galletas dulces redondas con crema</td>\n",
       "      <td>Cúcuta, Cenabastos</td>\n",
       "      <td>9558.0</td>\n",
       "    </tr>\n",
       "  </tbody>\n",
       "</table>\n",
       "</div>"
      ],
      "text/plain": [
       "         date                  group                             product  \\\n",
       "0  2013-01-01  VERDURAS Y HORTALIZAS                     Pepino cohombro   \n",
       "1  2013-01-01             PROCESADOS  Galletas dulces redondas con crema   \n",
       "2  2013-01-01             PROCESADOS  Galletas dulces redondas con crema   \n",
       "3  2013-01-01             PROCESADOS  Galletas dulces redondas con crema   \n",
       "4  2013-01-01             PROCESADOS  Galletas dulces redondas con crema   \n",
       "\n",
       "                             market  mean_price  \n",
       "0                Cúcuta, Cenabastos       790.0  \n",
       "1        Bucaramanga, Centroabastos      9281.0  \n",
       "2  Bucaramanga, Mercados del centro      9446.0  \n",
       "3                Cartagena, Bazurto      8591.0  \n",
       "4                Cúcuta, Cenabastos      9558.0  "
      ]
     },
     "execution_count": 5,
     "metadata": {},
     "output_type": "execute_result"
    }
   ],
   "source": [
    "dataset.head()"
   ]
  },
  {
   "cell_type": "code",
   "execution_count": null,
   "id": "885c2060-d234-4c3d-98a3-15417c0a9337",
   "metadata": {},
   "outputs": [],
   "source": []
  },
  {
   "cell_type": "code",
   "execution_count": 6,
   "id": "cf72cac6-630a-4106-836d-9bb2611f06d4",
   "metadata": {},
   "outputs": [],
   "source": [
    "dataset['date'] = pd.to_datetime(dataset['date'])"
   ]
  },
  {
   "cell_type": "code",
   "execution_count": 7,
   "id": "8bbdfbd8-d884-4489-bf41-df0380b319c3",
   "metadata": {},
   "outputs": [
    {
     "data": {
      "text/plain": [
       "count                           554550\n",
       "mean     2017-11-23 10:41:51.761969152\n",
       "min                2013-01-01 00:00:00\n",
       "25%                2015-06-01 00:00:00\n",
       "50%                2017-12-01 00:00:00\n",
       "75%                2020-05-01 00:00:00\n",
       "max                2022-11-01 00:00:00\n",
       "Name: date, dtype: object"
      ]
     },
     "execution_count": 7,
     "metadata": {},
     "output_type": "execute_result"
    }
   ],
   "source": [
    "dataset['date'].describe(datetime_is_numeric=True)"
   ]
  },
  {
   "cell_type": "code",
   "execution_count": null,
   "id": "fa58c190-90e9-408d-b562-41ed8a5a41b5",
   "metadata": {},
   "outputs": [],
   "source": []
  },
  {
   "cell_type": "markdown",
   "id": "cd8cdf8e-b8f8-4b80-a755-f8045e7dbaa9",
   "metadata": {},
   "source": [
    "#### Preprocess Text Data"
   ]
  },
  {
   "cell_type": "code",
   "execution_count": 8,
   "id": "03a1ed9f-71fa-4b4f-9daf-c326b100b9b1",
   "metadata": {},
   "outputs": [],
   "source": [
    "def clean_text(text):\n",
    "    clean_text = unidecode(text.lower())\n",
    "    clean_text = re.sub(r'[^\\w\\s]', '', clean_text)\n",
    "    clean_text = ' '.join(word_tokenize(clean_text))\n",
    "    return clean_text"
   ]
  },
  {
   "cell_type": "code",
   "execution_count": 9,
   "id": "eb897d42-8076-48c5-a60c-fff9da79e792",
   "metadata": {},
   "outputs": [],
   "source": [
    "dataset['group'] = dataset['group'].apply(clean_text)\n",
    "dataset['product'] = dataset['product'].apply(clean_text)"
   ]
  },
  {
   "cell_type": "code",
   "execution_count": 10,
   "id": "4c44eff5-3cc6-49ee-997c-85522b093d2e",
   "metadata": {},
   "outputs": [],
   "source": [
    "dataset['department'] = dataset['market'].str.split(',',expand=True)[0]"
   ]
  },
  {
   "cell_type": "code",
   "execution_count": null,
   "id": "5b6310d9-517d-4150-a0c0-ae25a8d23fbd",
   "metadata": {},
   "outputs": [],
   "source": [
    "dataset['market'] = dataset['market'].apply(clean_text)\n",
    "dataset['department'] = dataset['department'].apply(clean_text)"
   ]
  },
  {
   "cell_type": "code",
   "execution_count": null,
   "id": "c0bf1cd9-459f-4d75-a378-933fe80339a3",
   "metadata": {},
   "outputs": [],
   "source": []
  },
  {
   "cell_type": "markdown",
   "id": "aac13bee-c1bf-4e7c-962c-d40f68ca7e2b",
   "metadata": {},
   "source": [
    "#### Class Descriptions"
   ]
  },
  {
   "cell_type": "code",
   "execution_count": null,
   "id": "97253c01-f89a-4c19-86e7-668a1201f014",
   "metadata": {},
   "outputs": [
    {
     "data": {
      "text/plain": [
       "frutas                          140634\n",
       "verduras y hortalizas           113260\n",
       "carnes                           87006\n",
       "procesados                       81227\n",
       "tuberculos raices y platanos     45244\n",
       "granos y cereales                35701\n",
       "pescados                         26749\n",
       "lacteos y huevos                 24729\n",
       "Name: group, dtype: int64"
      ]
     },
     "execution_count": 12,
     "metadata": {},
     "output_type": "execute_result"
    }
   ],
   "source": [
    "dataset['group'].value_counts()"
   ]
  },
  {
   "cell_type": "code",
   "execution_count": null,
   "id": "38b0b827-7134-4f79-8173-676c56a40d5d",
   "metadata": {},
   "outputs": [],
   "source": []
  },
  {
   "cell_type": "code",
   "execution_count": null,
   "id": "26fa01a6-1516-4b58-b9bb-e52fff3e50d3",
   "metadata": {},
   "outputs": [
    {
     "data": {
      "text/plain": [
       "tomate de arbol            5365\n",
       "pimenton                   5189\n",
       "habichuela                 4945\n",
       "papa criolla limpia        4873\n",
       "cilantro                   4729\n",
       "mora de castilla           4704\n",
       "pepino cohombro            4621\n",
       "platano harton verde       4618\n",
       "lechuga batavia            4594\n",
       "chocolo mazorca            4483\n",
       "manzana verde importada    4454\n",
       "lulo                       4382\n",
       "manzana roja importada     4277\n",
       "guayaba pera               4149\n",
       "lenteja importada          4112\n",
       "papaya maradol             4106\n",
       "banano criollo             4055\n",
       "arveja verde en vaina      4014\n",
       "pera importada             3985\n",
       "maracuya                   3929\n",
       "Name: product, dtype: int64"
      ]
     },
     "execution_count": 13,
     "metadata": {},
     "output_type": "execute_result"
    }
   ],
   "source": [
    "dataset['product'].value_counts().head(20)"
   ]
  },
  {
   "cell_type": "code",
   "execution_count": null,
   "id": "35a50e89-b0cd-4f40-b74d-6a0caafa44be",
   "metadata": {
    "tags": []
   },
   "outputs": [
    {
     "data": {
      "text/plain": [
       "['aceite de palma',\n",
       " 'aceite girasol',\n",
       " 'aceite soya',\n",
       " 'aceite vegetal mezcla',\n",
       " 'acelga',\n",
       " 'aguacate comun',\n",
       " 'aguacate hass',\n",
       " 'aguacate papelillo',\n",
       " 'ahuyama',\n",
       " 'ahuyamin sakata',\n",
       " 'aji topito dulce',\n",
       " 'ajo',\n",
       " 'ajo importado',\n",
       " 'alas de pollo con costillar',\n",
       " 'alas de pollo sin costillar',\n",
       " 'almejas con concha',\n",
       " 'almejas sin concha',\n",
       " 'apio',\n",
       " 'arracacha amarilla',\n",
       " 'arracacha blanca',\n",
       " 'arroz blanco importado',\n",
       " 'arroz de primera',\n",
       " 'arroz de segunda',\n",
       " 'arroz excelso',\n",
       " 'arroz sopa cristal',\n",
       " 'arveja amarilla seca importada',\n",
       " 'arveja enlatada',\n",
       " 'arveja verde en vaina',\n",
       " 'arveja verde en vaina pastusa',\n",
       " 'arveja verde seca importada',\n",
       " 'avena en hojuelas',\n",
       " 'avena molida',\n",
       " 'azucar morena',\n",
       " 'azucar refinada',\n",
       " 'azucar sulfitada',\n",
       " 'badea',\n",
       " 'bagre rayado en postas congelado',\n",
       " 'bagre rayado entero congelado',\n",
       " 'bagre rayado entero fresco',\n",
       " 'banano bocadillo',\n",
       " 'banano criollo',\n",
       " 'banano uraba',\n",
       " 'basa entero congelado importado',\n",
       " 'basa filete congelado importado',\n",
       " 'berenjena',\n",
       " 'blanquillo entero fresco',\n",
       " 'bocachico criollo fresco',\n",
       " 'bocachico importado congelado',\n",
       " 'bocadillo veleno',\n",
       " 'borojo',\n",
       " 'breva',\n",
       " 'brocoli',\n",
       " 'cachama de cultivo fresca',\n",
       " 'cafe instantaneo',\n",
       " 'cafe molido',\n",
       " 'calabacin',\n",
       " 'calabaza',\n",
       " 'calamar anillos',\n",
       " 'calamar blanco entero',\n",
       " 'calamar morado entero',\n",
       " 'camaron tigre precocido seco',\n",
       " 'camaron titi precocido seco',\n",
       " 'capaz magdalena fresco',\n",
       " 'carne de cerdo brazo con hueso',\n",
       " 'carne de cerdo brazo sin hueso',\n",
       " 'carne de cerdo cabeza de lomo',\n",
       " 'carne de cerdo costilla',\n",
       " 'carne de cerdo en canal',\n",
       " 'carne de cerdo espinazo',\n",
       " 'carne de cerdo lomo con hueso',\n",
       " 'carne de cerdo lomo sin hueso',\n",
       " 'carne de cerdo pernil con hueso',\n",
       " 'carne de cerdo pernil sin hueso',\n",
       " 'carne de cerdo tocineta plancha',\n",
       " 'carne de cerdo tocino barriga',\n",
       " 'carne de cerdo tocino papada',\n",
       " 'carne de res bola de brazo',\n",
       " 'carne de res bola de pierna',\n",
       " 'carne de res bota',\n",
       " 'carne de res cadera',\n",
       " 'carne de res centro de pierna',\n",
       " 'carne de res chatas',\n",
       " 'carne de res cogote',\n",
       " 'carne de res costilla',\n",
       " 'carne de res en canal',\n",
       " 'carne de res falda',\n",
       " 'carne de res lomo de brazo',\n",
       " 'carne de res lomo fino',\n",
       " 'carne de res molida murillo',\n",
       " 'carne de res morrillo',\n",
       " 'carne de res muchacho',\n",
       " 'carne de res murillo',\n",
       " 'carne de res paletero',\n",
       " 'carne de res pecho',\n",
       " 'carne de res punta de anca',\n",
       " 'carne de res sobrebarriga',\n",
       " 'cazuela de mariscos paquete',\n",
       " 'cebolla cabezona blanca',\n",
       " 'cebolla cabezona blanca bogotana',\n",
       " 'cebolla cabezona blanca ecuatoriana',\n",
       " 'cebolla cabezona blanca importada',\n",
       " 'cebolla cabezona blanca pastusa',\n",
       " 'cebolla cabezona blanca peruana',\n",
       " 'cebolla cabezona roja',\n",
       " 'cebolla cabezona roja ecuatoriana',\n",
       " 'cebolla cabezona roja importada',\n",
       " 'cebolla cabezona roja ocanera',\n",
       " 'cebolla cabezona roja peruana',\n",
       " 'cebolla junca',\n",
       " 'cebolla junca aquitania',\n",
       " 'cebolla junca berlin',\n",
       " 'cebolla junca pastusa',\n",
       " 'cebolla junca tenerife',\n",
       " 'cebolla puerro',\n",
       " 'cebollin chino',\n",
       " 'chocolate amargo',\n",
       " 'chocolate dulce',\n",
       " 'chocolate instantaneo',\n",
       " 'chocolo mazorca',\n",
       " 'cidra',\n",
       " 'cilantro',\n",
       " 'ciruela importada',\n",
       " 'ciruela negra chilena',\n",
       " 'ciruela negra importada',\n",
       " 'ciruela roja',\n",
       " 'coco',\n",
       " 'coles',\n",
       " 'coliflor',\n",
       " 'color bolsita',\n",
       " 'corvina filete congelado nacional',\n",
       " 'cuchuco de cebada',\n",
       " 'cuchuco de maiz',\n",
       " 'curuba',\n",
       " 'curuba redonda',\n",
       " 'durazno importado',\n",
       " 'durazno nacional',\n",
       " 'espinaca',\n",
       " 'fecula de maiz',\n",
       " 'feijoa',\n",
       " 'fresa',\n",
       " 'frijol bolon',\n",
       " 'frijol cabeza negra importado',\n",
       " 'frijol cabeza negra nacional',\n",
       " 'frijol calima',\n",
       " 'frijol cargamanto blanco',\n",
       " 'frijol cargamanto rojo',\n",
       " 'frijol enlatado',\n",
       " 'frijol nima calima',\n",
       " 'frijol palomito importado',\n",
       " 'frijol radical',\n",
       " 'frijol uribe rosado',\n",
       " 'frijol verde bolo',\n",
       " 'frijol verde cargamanto',\n",
       " 'frijol verde en vaina',\n",
       " 'frijol zaragoza',\n",
       " 'galletas dulces redondas con crema',\n",
       " 'galletas saladas',\n",
       " 'galletas saladas 3 tacos',\n",
       " 'garbanzo importado',\n",
       " 'gelatina',\n",
       " 'granadilla',\n",
       " 'guanabana',\n",
       " 'guayaba agria',\n",
       " 'guayaba atlantico',\n",
       " 'guayaba comun',\n",
       " 'guayaba manzana',\n",
       " 'guayaba pera',\n",
       " 'guayaba pera valluna',\n",
       " 'gulupa',\n",
       " 'haba verde',\n",
       " 'habichuela',\n",
       " 'habichuela larga',\n",
       " 'harina de trigo',\n",
       " 'harina precocida de maiz',\n",
       " 'higo',\n",
       " 'huevo blanco a',\n",
       " 'huevo blanco aa',\n",
       " 'huevo blanco b',\n",
       " 'huevo blanco extra',\n",
       " 'huevo rojo a',\n",
       " 'huevo rojo aa',\n",
       " 'huevo rojo b',\n",
       " 'huevo rojo extra',\n",
       " 'jugo de frutas',\n",
       " 'jugo instantaneo sobre',\n",
       " 'kiwi',\n",
       " 'langostino 1620',\n",
       " 'langostino u12',\n",
       " 'leche en polvo',\n",
       " 'lechuga batavia',\n",
       " 'lechuga crespa morada',\n",
       " 'lechuga crespa verde',\n",
       " 'lenteja importada',\n",
       " 'lenteja nacional',\n",
       " 'limon comun',\n",
       " 'limon comun cienaga',\n",
       " 'limon comun ecuatoriano',\n",
       " 'limon comun valluno',\n",
       " 'limon mandarino',\n",
       " 'limon tahiti',\n",
       " 'lomitos de atun en lata',\n",
       " 'lulo',\n",
       " 'maiz amarillo cascara',\n",
       " 'maiz amarillo cascara importado',\n",
       " 'maiz amarillo retrillado',\n",
       " 'maiz amarillo trillado',\n",
       " 'maiz blanco cascara',\n",
       " 'maiz blanco retrillado',\n",
       " 'maiz blanco trillado',\n",
       " 'maiz enlatado',\n",
       " 'maiz pira',\n",
       " 'mandarina arrayana',\n",
       " 'mandarina comun',\n",
       " 'mandarina oneco',\n",
       " 'mango comun',\n",
       " 'mango costeno',\n",
       " 'mango de azucar',\n",
       " 'mango kent',\n",
       " 'mango manzano',\n",
       " 'mango mariquiteno',\n",
       " 'mango reina',\n",
       " 'mango tommy',\n",
       " 'mango yulima',\n",
       " 'manteca',\n",
       " 'manzana nacional',\n",
       " 'manzana roja importada',\n",
       " 'manzana royal gala importada',\n",
       " 'manzana verde importada',\n",
       " 'maracuya',\n",
       " 'maracuya antioqueno',\n",
       " 'maracuya huilense',\n",
       " 'maracuya santandereano',\n",
       " 'maracuya valluno',\n",
       " 'margarina',\n",
       " 'mayonesa doy pack',\n",
       " 'melon cantalup',\n",
       " 'menudencias de pollo',\n",
       " 'merluza filete importado',\n",
       " 'merluza filete nacional',\n",
       " 'mojarra lora entera congelada',\n",
       " 'mojarra lora entera fresca',\n",
       " 'mora de castilla',\n",
       " 'mostaza doy pack',\n",
       " 'muslos de pollo con rabadilla',\n",
       " 'muslos de pollo sin rabadilla',\n",
       " 'name criollo',\n",
       " 'name diamante',\n",
       " 'name espino',\n",
       " 'naranja comun',\n",
       " 'naranja sweet',\n",
       " 'naranja valencia',\n",
       " 'nicuro fresco',\n",
       " 'palmitos de mar',\n",
       " 'panela cuadrada blanca',\n",
       " 'panela cuadrada morena',\n",
       " 'panela en pastilla',\n",
       " 'panela redonda blanca',\n",
       " 'panela redonda morena',\n",
       " 'papa betina',\n",
       " 'papa capira',\n",
       " 'papa criolla limpia',\n",
       " 'papa criolla para lavar',\n",
       " 'papa criolla sucia',\n",
       " 'papa frita',\n",
       " 'papa icahuila',\n",
       " 'papa morasurco',\n",
       " 'papa nevada',\n",
       " 'papa parda pastusa',\n",
       " 'papa purace',\n",
       " 'papa r12 negra',\n",
       " 'papa r12 roja',\n",
       " 'papa roja peruana',\n",
       " 'papa rubi',\n",
       " 'papa sabanera',\n",
       " 'papa san felix',\n",
       " 'papa superior',\n",
       " 'papa suprema',\n",
       " 'papa tocana',\n",
       " 'papa tocarrena',\n",
       " 'papa unica',\n",
       " 'papaya hawaiana',\n",
       " 'papaya maradol',\n",
       " 'papaya melona',\n",
       " 'papaya paulina',\n",
       " 'papaya redonda',\n",
       " 'papaya tainung',\n",
       " 'pargo rojo entero congelado',\n",
       " 'pargo rojo entero fresco',\n",
       " 'pargo rojo platero',\n",
       " 'pastas alimenticias',\n",
       " 'patilla',\n",
       " 'patilla baby',\n",
       " 'pechuga de pollo',\n",
       " 'pepino cohombro',\n",
       " 'pepino de rellenar',\n",
       " 'pera importada',\n",
       " 'pera nacional',\n",
       " 'perejil',\n",
       " 'pescado cabezas',\n",
       " 'pierna pernil con rabadilla',\n",
       " 'pierna pernil sin rabadilla',\n",
       " 'piernas de pollo',\n",
       " 'pimenton',\n",
       " 'pimenton verde',\n",
       " 'pina cayena',\n",
       " 'pina gold',\n",
       " 'pina manzana',\n",
       " 'pina perolera',\n",
       " 'pitahaya',\n",
       " 'platano comino',\n",
       " 'platano dominico harton maduro',\n",
       " 'platano dominico harton verde',\n",
       " 'platano dominico verde',\n",
       " 'platano guineo',\n",
       " 'platano harton maduro',\n",
       " 'platano harton verde',\n",
       " 'platano harton verde ecuatoriano',\n",
       " 'platano harton verde eje cafetero',\n",
       " 'platano harton verde llanero',\n",
       " 'platano harton verde venezolano',\n",
       " 'pollo entero congelado con visceras',\n",
       " 'pollo entero congelado sin visceras',\n",
       " 'pollo entero fresco con visceras',\n",
       " 'pollo entero fresco sin visceras',\n",
       " 'queso campesino',\n",
       " 'queso caqueta',\n",
       " 'queso costeno',\n",
       " 'queso cuajada',\n",
       " 'queso doble crema',\n",
       " 'rabadillas de pollo',\n",
       " 'rabano rojo',\n",
       " 'remolacha',\n",
       " 'remolacha bogotana',\n",
       " 'remolacha regional',\n",
       " 'repollo blanco',\n",
       " 'repollo blanco bogotano',\n",
       " 'repollo blanco valluno',\n",
       " 'repollo morado',\n",
       " 'repollo verde',\n",
       " 'robalo filete congelado',\n",
       " 'sal yodada',\n",
       " 'salmon filete congelado',\n",
       " 'salsa de tomate doy pack',\n",
       " 'sardinas en lata',\n",
       " 'sierra entera congelada',\n",
       " 'sopa de pollo caja',\n",
       " 'tangelo',\n",
       " 'tilapia filete congelado',\n",
       " 'tilapia lomitos',\n",
       " 'tilapia roja entera congelada',\n",
       " 'tilapia roja entera fresca',\n",
       " 'tomate chonto',\n",
       " 'tomate chonto regional',\n",
       " 'tomate chonto valluno',\n",
       " 'tomate de arbol',\n",
       " 'tomate larga vida',\n",
       " 'tomate rinon',\n",
       " 'tomate rinon valluno',\n",
       " 'tomate riogrande',\n",
       " 'tomate riogrande bumangues',\n",
       " 'tomate riogrande ocanero',\n",
       " 'toyo blanco filete congelado',\n",
       " 'trucha en corte mariposa',\n",
       " 'trucha entera fresca',\n",
       " 'uchuva con cascara',\n",
       " 'ulluco',\n",
       " 'uva importada',\n",
       " 'uva isabela',\n",
       " 'uva negra',\n",
       " 'uva red globe nacional',\n",
       " 'uva roja',\n",
       " 'uva verde',\n",
       " 'vinagre',\n",
       " 'yuca chirosa',\n",
       " 'yuca criolla',\n",
       " 'yuca ica',\n",
       " 'yuca llanera',\n",
       " 'zanahoria',\n",
       " 'zanahoria bogotana',\n",
       " 'zanahoria larga vida',\n",
       " 'zapote']"
      ]
     },
     "execution_count": 14,
     "metadata": {},
     "output_type": "execute_result"
    }
   ],
   "source": [
    "sorted(dataset['product'].unique())"
   ]
  },
  {
   "cell_type": "code",
   "execution_count": null,
   "id": "1df0e924-63d8-4f99-a485-db263f2393d2",
   "metadata": {},
   "outputs": [
    {
     "data": {
      "text/plain": [
       "medellin central mayorista de antioquia     25406\n",
       "bogota dc corabastos                        20050\n",
       "cucuta cenabastos                           17352\n",
       "ibague plaza la 21                          16450\n",
       "barranquilla barranquillita                 15654\n",
       "                                            ...  \n",
       "san sebastian de mariquita tolima panela        3\n",
       "barranquilla molino gran senora                 2\n",
       "barranquilla molino el litoral                  2\n",
       "barranquilla inversiones lache                  2\n",
       "socorro santander panela                        2\n",
       "Name: market, Length: 102, dtype: int64"
      ]
     },
     "execution_count": 15,
     "metadata": {},
     "output_type": "execute_result"
    }
   ],
   "source": [
    "dataset['market'].value_counts()"
   ]
  },
  {
   "cell_type": "code",
   "execution_count": null,
   "id": "e087218c-665a-49d7-95e6-ef9fd146afb6",
   "metadata": {},
   "outputs": [],
   "source": []
  },
  {
   "cell_type": "code",
   "execution_count": null,
   "id": "3b9f1297-79fa-4596-827a-ea3383837c44",
   "metadata": {},
   "outputs": [
    {
     "data": {
      "text/plain": [
       "bogota                               45290\n",
       "medellin                             39546\n",
       "cali                                 36971\n",
       "barranquilla                         25934\n",
       "cucuta                               24047\n",
       "                                     ...  \n",
       "san andres de tumaco narino             61\n",
       "san sebastian de mariquita tolima       59\n",
       "malambo                                 46\n",
       "san marcos                              28\n",
       "la parada norte de santander            22\n",
       "Name: department, Length: 69, dtype: int64"
      ]
     },
     "execution_count": 16,
     "metadata": {},
     "output_type": "execute_result"
    }
   ],
   "source": [
    "dataset['department'].value_counts()"
   ]
  },
  {
   "cell_type": "code",
   "execution_count": 17,
   "id": "717cab0d-a759-4230-84b6-0344ed345b6c",
   "metadata": {},
   "outputs": [],
   "source": [
    "dataset.to_csv(sts.LOCAL_DATA_PATH+\"final_prices_dataset_clean.csv\", index=False)"
   ]
  },
  {
   "cell_type": "code",
   "execution_count": 18,
   "id": "0fd0acaf-0e57-4b2d-a9b8-d2f6ad95ec54",
   "metadata": {},
   "outputs": [],
   "source": [
    "dataset = pd.read_csv(sts.LOCAL_DATA_PATH+\"final_prices_dataset_clean.csv\")"
   ]
  },
  {
   "cell_type": "code",
   "execution_count": 25,
   "id": "a677495f-d166-4bcc-85fd-1553ab433b16",
   "metadata": {},
   "outputs": [],
   "source": [
    "dataset['date'] = pd.to_datetime(dataset['date'])"
   ]
  },
  {
   "cell_type": "markdown",
   "id": "e8b49c21-a00b-4d8b-a3a4-7bff72d51381",
   "metadata": {
    "tags": []
   },
   "source": [
    "## Time Series Analysis"
   ]
  },
  {
   "cell_type": "code",
   "execution_count": 26,
   "id": "6bab913d-4846-4858-a1ba-28ebeeb200a4",
   "metadata": {},
   "outputs": [],
   "source": [
    "date_range = pd.date_range(start = dataset['date'].min(), end = dataset['date'].max(), freq = 'MS')"
   ]
  },
  {
   "cell_type": "code",
   "execution_count": 27,
   "id": "5cb5597b-3448-45c3-ace9-f01e954b29ed",
   "metadata": {},
   "outputs": [],
   "source": [
    "selected_markets = [\n",
    "    'medellin central mayorista de antioquia', \n",
    "    'bogota dc corabastos',\n",
    "    'cucuta cenabastos',\n",
    "    'barranquilla barranquillita'\n",
    "                   ]"
   ]
  },
  {
   "cell_type": "code",
   "execution_count": 28,
   "id": "e119f3c4-f03c-4dba-a8eb-24558e24d3aa",
   "metadata": {},
   "outputs": [],
   "source": [
    "selected_product = 'manzana roja importada'"
   ]
  },
  {
   "cell_type": "code",
   "execution_count": 29,
   "id": "6aae4921-aa44-448f-b590-c47646a683b5",
   "metadata": {},
   "outputs": [],
   "source": [
    "filter_key = (dataset['market'].isin(selected_markets)) & (dataset['product']==selected_product)"
   ]
  },
  {
   "cell_type": "code",
   "execution_count": 30,
   "id": "117f933b-b13a-49e3-a988-026d2c978ee8",
   "metadata": {},
   "outputs": [
    {
     "data": {
      "image/png": "[encoded data removed]",
      "text/plain": [
       "<Figure size 1000x400 with 1 Axes>"
      ]
     },
     "metadata": {},
     "output_type": "display_data"
    }
   ],
   "source": [
    "plt.figure(figsize=(10,4))\n",
    "for key, df_key in dataset.loc[filter_key].groupby('market'):\n",
    "    price_series = df_key.set_index(['date']).reindex(date_range)\n",
    "    price_series['mean_price'].plot(label=key)\n",
    "plt.ylim(bottom=0)\n",
    "plt.title(f\"Historical Prices of {selected_product.upper()} in the main Colombian food markets\")\n",
    "plt.legend()\n",
    "plt.show()"
   ]
  },
  {
   "cell_type": "code",
   "execution_count": null,
   "id": "8957eec6-2ffc-45f9-b5d0-7ccb6ed0e29c",
   "metadata": {},
   "outputs": [],
   "source": []
  },
  {
   "cell_type": "code",
   "execution_count": 31,
   "id": "54075df4-b5aa-4b62-8f5e-a603e6d8dd04",
   "metadata": {},
   "outputs": [],
   "source": [
    "dataset_pivot = dataset.pivot(index='date', columns = ['group', 'product', 'market'], values = 'mean_price')"
   ]
  },
  {
   "cell_type": "code",
   "execution_count": 32,
   "id": "b5d52433-34c2-4601-9d7c-726f339b1583",
   "metadata": {},
   "outputs": [],
   "source": [
    "dataset_pivot = dataset_pivot.reindex(date_range)"
   ]
  },
  {
   "cell_type": "code",
   "execution_count": null,
   "id": "b1b80287-8188-42e9-b94a-0d232921cb68",
   "metadata": {},
   "outputs": [],
   "source": []
  },
  {
   "cell_type": "code",
   "execution_count": null,
   "id": "057d9792-e11f-4386-819c-297269652916",
   "metadata": {},
   "outputs": [],
   "source": []
  }
 ],
 "metadata": {
  "kernelspec": {
   "display_name": "Python 3 (ipykernel)",
   "language": "python",
   "name": "python3"
  },
  "language_info": {
   "codemirror_mode": {
    "name": "ipython",
    "version": 3
   },
   "file_extension": ".py",
   "mimetype": "text/x-python",
   "name": "python",
   "nbconvert_exporter": "python",
   "pygments_lexer": "ipython3",
   "version": "3.10.8"
  }
 },
 "nbformat": 4,
 "nbformat_minor": 5
}
