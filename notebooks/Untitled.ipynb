{
 "cells": [
  {
   "cell_type": "code",
   "execution_count": 9,
   "id": "cfa4bc85-d166-4ea7-b810-51b81f8f00fa",
   "metadata": {},
   "outputs": [],
   "source": [
    "import os\n",
    "os.chdir(os.environ['PWD'])"
   ]
  },
  {
   "cell_type": "code",
   "execution_count": 11,
   "id": "d0889217-e1f2-4824-9986-91c31a6fef45",
   "metadata": {},
   "outputs": [],
   "source": [
    "import json\n",
    "import boto3\n",
    "from dotenv import load_dotenv\n",
    "import app.conf.settings as sts"
   ]
  },
  {
   "cell_type": "code",
   "execution_count": 12,
   "id": "9c29bc98-6968-4999-acb3-0f1e7c457878",
   "metadata": {},
   "outputs": [],
   "source": [
    "# Load ENV secrets\n",
    "assert load_dotenv()\n",
    "AWS_ACCESS_KEY = os.getenv(\"AWS_ACCESS_KEY\")\n",
    "AWS_SECRET_KEY = os.getenv(\"AWS_SECRET_KEY\")\n",
    "AWS_BUCKET_NAME = os.getenv(\"AWS_BUCKET_NAME\")"
   ]
  },
  {
   "cell_type": "code",
   "execution_count": 13,
   "id": "afadb09a-ed3e-424e-a441-180375d207b8",
   "metadata": {},
   "outputs": [],
   "source": [
    "# Create an S3 client\n",
    "s3_client = boto3.client(\n",
    "    's3',\n",
    "    aws_access_key_id=AWS_ACCESS_KEY,\n",
    "    aws_secret_access_key=AWS_SECRET_KEY\n",
    ") "
   ]
  },
  {
   "cell_type": "code",
   "execution_count": 17,
   "id": "b0292996-c335-42e2-bc1e-40a5b5768b57",
   "metadata": {},
   "outputs": [
    {
     "data": {
      "text/plain": [
       "\u001b[0;31mSignature:\u001b[0m \u001b[0mboto3\u001b[0m\u001b[0;34m.\u001b[0m\u001b[0mclient\u001b[0m\u001b[0;34m(\u001b[0m\u001b[0;34m*\u001b[0m\u001b[0margs\u001b[0m\u001b[0;34m,\u001b[0m \u001b[0;34m**\u001b[0m\u001b[0mkwargs\u001b[0m\u001b[0;34m)\u001b[0m\u001b[0;34m\u001b[0m\u001b[0;34m\u001b[0m\u001b[0m\n",
       "\u001b[0;31mDocstring:\u001b[0m\n",
       "Create a low-level service client by name using the default session.\n",
       "\n",
       "See :py:meth:`boto3.session.Session.client`.\n",
       "\u001b[0;31mFile:\u001b[0m      ~/.local/share/virtualenvs/colombian_food_prices-GItj4Ut_/lib/python3.10/site-packages/boto3/__init__.py\n",
       "\u001b[0;31mType:\u001b[0m      function\n"
      ]
     },
     "metadata": {},
     "output_type": "display_data"
    }
   ],
   "source": [
    "boto3.client()"
   ]
  },
  {
   "cell_type": "code",
   "execution_count": 14,
   "id": "ba2af196-cbcd-46d8-a997-fd5624008757",
   "metadata": {},
   "outputs": [],
   "source": [
    "sample_object = {\"Hello\":\"world\"}"
   ]
  },
  {
   "cell_type": "code",
   "execution_count": 15,
   "id": "ab944407-e83a-4b8b-906b-9f129443c5a1",
   "metadata": {},
   "outputs": [],
   "source": [
    "object_key = sts.S3_DATA_PATH + 'data/sample.json'"
   ]
  },
  {
   "cell_type": "code",
   "execution_count": 16,
   "id": "53baf786-85c5-4d57-a0b4-fbe20e3a5ce0",
   "metadata": {},
   "outputs": [
    {
     "data": {
      "text/plain": [
       "{'ResponseMetadata': {'RequestId': 'BH3QWW22WCEM3AQJ',\n",
       "  'HostId': 'DiKgACRH2Iue8FrzmB66wXAptObPcFyxS70YJyvjN/BXhffL4DMdhqQ7YKUkWIPpo9RynKljdVM=',\n",
       "  'HTTPStatusCode': 200,\n",
       "  'HTTPHeaders': {'x-amz-id-2': 'DiKgACRH2Iue8FrzmB66wXAptObPcFyxS70YJyvjN/BXhffL4DMdhqQ7YKUkWIPpo9RynKljdVM=',\n",
       "   'x-amz-request-id': 'BH3QWW22WCEM3AQJ',\n",
       "   'date': 'Wed, 31 May 2023 17:26:32 GMT',\n",
       "   'x-amz-server-side-encryption': 'AES256',\n",
       "   'etag': '\"179d517533ddc96ef9541bf01c22e93e\"',\n",
       "   'server': 'AmazonS3',\n",
       "   'content-length': '0'},\n",
       "  'RetryAttempts': 0},\n",
       " 'ETag': '\"179d517533ddc96ef9541bf01c22e93e\"',\n",
       " 'ServerSideEncryption': 'AES256'}"
      ]
     },
     "execution_count": 16,
     "metadata": {},
     "output_type": "execute_result"
    }
   ],
   "source": [
    "s3_client.put_object(\n",
    "    Body=json.dumps(sample_object),\n",
    "    Bucket=AWS_BUCKET_NAME,\n",
    "    Key=object_key\n",
    ")"
   ]
  },
  {
   "cell_type": "code",
   "execution_count": 20,
   "id": "4428e488-9832-494a-aa18-0b82aece2c81",
   "metadata": {},
   "outputs": [],
   "source": [
    "response = s3_client.get_object(\n",
    "    Bucket=AWS_BUCKET_NAME,\n",
    "    Key=object_key\n",
    ")"
   ]
  },
  {
   "cell_type": "code",
   "execution_count": 23,
   "id": "1c81157d-0317-4453-a00c-369dd20da39e",
   "metadata": {},
   "outputs": [
    {
     "data": {
      "text/plain": [
       "{'Hello': 'world'}"
      ]
     },
     "execution_count": 23,
     "metadata": {},
     "output_type": "execute_result"
    }
   ],
   "source": [
    "json.loads(response['Body'].read())"
   ]
  },
  {
   "cell_type": "code",
   "execution_count": null,
   "id": "9e4e16d9-e729-4156-a452-1989c87f3e2d",
   "metadata": {},
   "outputs": [],
   "source": []
  }
 ],
 "metadata": {
  "kernelspec": {
   "display_name": "Python 3 (ipykernel)",
   "language": "python",
   "name": "python3"
  },
  "language_info": {
   "codemirror_mode": {
    "name": "ipython",
    "version": 3
   },
   "file_extension": ".py",
   "mimetype": "text/x-python",
   "name": "python",
   "nbconvert_exporter": "python",
   "pygments_lexer": "ipython3",
   "version": "3.10.8"
  }
 },
 "nbformat": 4,
 "nbformat_minor": 5
}
